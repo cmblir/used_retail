{
  "cells": [
    {
      "cell_type": "markdown",
      "metadata": {
        "id": "view-in-github"
      },
      "source": [
        "<a href=\"https://colab.research.google.com/github/godhin/used_retail/blob/main/jungonara.ipynb\" target=\"_parent\"><img src=\"https://colab.research.google.com/assets/colab-badge.svg\" alt=\"Open In Colab\"/></a>"
      ]
    },
    {
      "cell_type": "code",
      "execution_count": 1,
      "metadata": {
        "id": "9DtdylkyGvzY"
      },
      "outputs": [],
      "source": [
        "import pandas as pd\n",
        "import numpy as np\n",
        "import matplotlib.pyplot as plt\n",
        "import seaborn as sns"
      ]
    },
    {
      "cell_type": "code",
      "source": [
        "from google.colab import drive\n",
        "drive.mount('/content/drive')"
      ],
      "metadata": {
        "colab": {
          "base_uri": "https://localhost:8080/"
        },
        "id": "6wkaZSZ7tN9u",
        "outputId": "cf2b24cd-a35c-46d7-eced-c58bf915cd94"
      },
      "execution_count": 2,
      "outputs": [
        {
          "output_type": "stream",
          "name": "stdout",
          "text": [
            "Mounted at /content/drive\n"
          ]
        }
      ]
    },
    {
      "cell_type": "code",
      "execution_count": 3,
      "metadata": {
        "id": "WDv5yE13G-MQ"
      },
      "outputs": [],
      "source": [
        "df = pd.read_csv('/content/drive/MyDrive/used_retail/used_mobile_phone.csv')"
      ]
    },
    {
      "cell_type": "markdown",
      "metadata": {
        "id": "XOliLE6XHdw7"
      },
      "source": [
        "# EDA"
      ]
    },
    {
      "cell_type": "code",
      "execution_count": 4,
      "metadata": {
        "colab": {
          "base_uri": "https://localhost:8080/",
          "height": 1000
        },
        "id": "W4uadcKpHWCC",
        "outputId": "92bae107-69c9-4d00-87b3-1a4caefb300c"
      },
      "outputs": [
        {
          "output_type": "execute_result",
          "data": {
            "text/plain": [
              "               create_date     price  \\\n",
              "0   2017-03-19  4 35 00 PM  550000.0   \n",
              "1  2016-10-26  12 08 00 PM  380000.0   \n",
              "2  2016-10-25  12 52 00 PM  300000.0   \n",
              "3  2017-03-23  11 14 00 PM  290000.0   \n",
              "4   2016-04-11  7 35 00 PM  280000.0   \n",
              "\n",
              "                                                text          phone_model  \\\n",
              "0  아이폰6플러스 블랙+애플라이트 64기가 팝니다  아이폰6플러스 블랙+애플라이트 64...        iphone 6 64gb   \n",
              "1  갤럭시s6엣지 32기가 팝니다 직거래  갤럭시s6엣지 32기가 품명 갤럭시s6엣지제...  galaxy s6 edge 32gb   \n",
              "2  갤럭시s6 풀박스로 팝니다~~~ 새상품급  실기스조차 없어요  직접거래 구매한지 1...       galaxy s6 32gb   \n",
              "3  sk  g5 티탄 폰 단품판매합니다  직접거래 sk g5 티탄 폰 단품판매합니다 올...           lg g5 32gb   \n",
              "4   sony 엑스페리아 c5 ultra e5506 16gb  미사용 새제품 팝니다 1...            lg u 32gb   \n",
              "\n",
              "   factory_price    maker  price_index  \n",
              "0         924000    apple        95.96  \n",
              "1         979000  samsung       103.05  \n",
              "2         854000  samsung       103.05  \n",
              "3         836000       lg        95.96  \n",
              "4         396000       lg       102.59  "
            ],
            "text/html": [
              "\n",
              "  <div id=\"df-e441c0d0-c4a2-4e91-880d-0594d176e5cb\">\n",
              "    <div class=\"colab-df-container\">\n",
              "      <div>\n",
              "<style scoped>\n",
              "    .dataframe tbody tr th:only-of-type {\n",
              "        vertical-align: middle;\n",
              "    }\n",
              "\n",
              "    .dataframe tbody tr th {\n",
              "        vertical-align: top;\n",
              "    }\n",
              "\n",
              "    .dataframe thead th {\n",
              "        text-align: right;\n",
              "    }\n",
              "</style>\n",
              "<table border=\"1\" class=\"dataframe\">\n",
              "  <thead>\n",
              "    <tr style=\"text-align: right;\">\n",
              "      <th></th>\n",
              "      <th>create_date</th>\n",
              "      <th>price</th>\n",
              "      <th>text</th>\n",
              "      <th>phone_model</th>\n",
              "      <th>factory_price</th>\n",
              "      <th>maker</th>\n",
              "      <th>price_index</th>\n",
              "    </tr>\n",
              "  </thead>\n",
              "  <tbody>\n",
              "    <tr>\n",
              "      <th>0</th>\n",
              "      <td>2017-03-19  4 35 00 PM</td>\n",
              "      <td>550000.0</td>\n",
              "      <td>아이폰6플러스 블랙+애플라이트 64기가 팝니다  아이폰6플러스 블랙+애플라이트 64...</td>\n",
              "      <td>iphone 6 64gb</td>\n",
              "      <td>924000</td>\n",
              "      <td>apple</td>\n",
              "      <td>95.96</td>\n",
              "    </tr>\n",
              "    <tr>\n",
              "      <th>1</th>\n",
              "      <td>2016-10-26  12 08 00 PM</td>\n",
              "      <td>380000.0</td>\n",
              "      <td>갤럭시s6엣지 32기가 팝니다 직거래  갤럭시s6엣지 32기가 품명 갤럭시s6엣지제...</td>\n",
              "      <td>galaxy s6 edge 32gb</td>\n",
              "      <td>979000</td>\n",
              "      <td>samsung</td>\n",
              "      <td>103.05</td>\n",
              "    </tr>\n",
              "    <tr>\n",
              "      <th>2</th>\n",
              "      <td>2016-10-25  12 52 00 PM</td>\n",
              "      <td>300000.0</td>\n",
              "      <td>갤럭시s6 풀박스로 팝니다~~~ 새상품급  실기스조차 없어요  직접거래 구매한지 1...</td>\n",
              "      <td>galaxy s6 32gb</td>\n",
              "      <td>854000</td>\n",
              "      <td>samsung</td>\n",
              "      <td>103.05</td>\n",
              "    </tr>\n",
              "    <tr>\n",
              "      <th>3</th>\n",
              "      <td>2017-03-23  11 14 00 PM</td>\n",
              "      <td>290000.0</td>\n",
              "      <td>sk  g5 티탄 폰 단품판매합니다  직접거래 sk g5 티탄 폰 단품판매합니다 올...</td>\n",
              "      <td>lg g5 32gb</td>\n",
              "      <td>836000</td>\n",
              "      <td>lg</td>\n",
              "      <td>95.96</td>\n",
              "    </tr>\n",
              "    <tr>\n",
              "      <th>4</th>\n",
              "      <td>2016-04-11  7 35 00 PM</td>\n",
              "      <td>280000.0</td>\n",
              "      <td>sony 엑스페리아 c5 ultra e5506 16gb  미사용 새제품 팝니다 1...</td>\n",
              "      <td>lg u 32gb</td>\n",
              "      <td>396000</td>\n",
              "      <td>lg</td>\n",
              "      <td>102.59</td>\n",
              "    </tr>\n",
              "  </tbody>\n",
              "</table>\n",
              "</div>\n",
              "      <button class=\"colab-df-convert\" onclick=\"convertToInteractive('df-e441c0d0-c4a2-4e91-880d-0594d176e5cb')\"\n",
              "              title=\"Convert this dataframe to an interactive table.\"\n",
              "              style=\"display:none;\">\n",
              "        \n",
              "  <svg xmlns=\"http://www.w3.org/2000/svg\" height=\"24px\"viewBox=\"0 0 24 24\"\n",
              "       width=\"24px\">\n",
              "    <path d=\"M0 0h24v24H0V0z\" fill=\"none\"/>\n",
              "    <path d=\"M18.56 5.44l.94 2.06.94-2.06 2.06-.94-2.06-.94-.94-2.06-.94 2.06-2.06.94zm-11 1L8.5 8.5l.94-2.06 2.06-.94-2.06-.94L8.5 2.5l-.94 2.06-2.06.94zm10 10l.94 2.06.94-2.06 2.06-.94-2.06-.94-.94-2.06-.94 2.06-2.06.94z\"/><path d=\"M17.41 7.96l-1.37-1.37c-.4-.4-.92-.59-1.43-.59-.52 0-1.04.2-1.43.59L10.3 9.45l-7.72 7.72c-.78.78-.78 2.05 0 2.83L4 21.41c.39.39.9.59 1.41.59.51 0 1.02-.2 1.41-.59l7.78-7.78 2.81-2.81c.8-.78.8-2.07 0-2.86zM5.41 20L4 18.59l7.72-7.72 1.47 1.35L5.41 20z\"/>\n",
              "  </svg>\n",
              "      </button>\n",
              "      \n",
              "  <style>\n",
              "    .colab-df-container {\n",
              "      display:flex;\n",
              "      flex-wrap:wrap;\n",
              "      gap: 12px;\n",
              "    }\n",
              "\n",
              "    .colab-df-convert {\n",
              "      background-color: #E8F0FE;\n",
              "      border: none;\n",
              "      border-radius: 50%;\n",
              "      cursor: pointer;\n",
              "      display: none;\n",
              "      fill: #1967D2;\n",
              "      height: 32px;\n",
              "      padding: 0 0 0 0;\n",
              "      width: 32px;\n",
              "    }\n",
              "\n",
              "    .colab-df-convert:hover {\n",
              "      background-color: #E2EBFA;\n",
              "      box-shadow: 0px 1px 2px rgba(60, 64, 67, 0.3), 0px 1px 3px 1px rgba(60, 64, 67, 0.15);\n",
              "      fill: #174EA6;\n",
              "    }\n",
              "\n",
              "    [theme=dark] .colab-df-convert {\n",
              "      background-color: #3B4455;\n",
              "      fill: #D2E3FC;\n",
              "    }\n",
              "\n",
              "    [theme=dark] .colab-df-convert:hover {\n",
              "      background-color: #434B5C;\n",
              "      box-shadow: 0px 1px 3px 1px rgba(0, 0, 0, 0.15);\n",
              "      filter: drop-shadow(0px 1px 2px rgba(0, 0, 0, 0.3));\n",
              "      fill: #FFFFFF;\n",
              "    }\n",
              "  </style>\n",
              "\n",
              "      <script>\n",
              "        const buttonEl =\n",
              "          document.querySelector('#df-e441c0d0-c4a2-4e91-880d-0594d176e5cb button.colab-df-convert');\n",
              "        buttonEl.style.display =\n",
              "          google.colab.kernel.accessAllowed ? 'block' : 'none';\n",
              "\n",
              "        async function convertToInteractive(key) {\n",
              "          const element = document.querySelector('#df-e441c0d0-c4a2-4e91-880d-0594d176e5cb');\n",
              "          const dataTable =\n",
              "            await google.colab.kernel.invokeFunction('convertToInteractive',\n",
              "                                                     [key], {});\n",
              "          if (!dataTable) return;\n",
              "\n",
              "          const docLinkHtml = 'Like what you see? Visit the ' +\n",
              "            '<a target=\"_blank\" href=https://colab.research.google.com/notebooks/data_table.ipynb>data table notebook</a>'\n",
              "            + ' to learn more about interactive tables.';\n",
              "          element.innerHTML = '';\n",
              "          dataTable['output_type'] = 'display_data';\n",
              "          await google.colab.output.renderOutput(dataTable, element);\n",
              "          const docLink = document.createElement('div');\n",
              "          docLink.innerHTML = docLinkHtml;\n",
              "          element.appendChild(docLink);\n",
              "        }\n",
              "      </script>\n",
              "    </div>\n",
              "  </div>\n",
              "  "
            ]
          },
          "metadata": {},
          "execution_count": 4
        }
      ],
      "source": [
        "df.head()"
      ]
    },
    {
      "cell_type": "code",
      "execution_count": 5,
      "metadata": {
        "id": "2uUZxiaOHYnK"
      },
      "outputs": [],
      "source": [
        "df['month'] = df['create_date'].apply(lambda x: x[:7]) # 월별로 표시하기위해 추출"
      ]
    },
    {
      "cell_type": "code",
      "execution_count": 6,
      "metadata": {
        "colab": {
          "base_uri": "https://localhost:8080/"
        },
        "id": "aEMoPE33HfJX",
        "outputId": "0cdcb087-8f6d-4f80-9022-7c9af4c9a5df"
      },
      "outputs": [
        {
          "output_type": "execute_result",
          "data": {
            "text/plain": [
              "2016-10    2956\n",
              "2017-03    1311\n",
              "2016-08     107\n",
              "2016-09     105\n",
              "2016-04     102\n",
              "2016-05      89\n",
              "2016-06      76\n",
              "2016-07      74\n",
              "2016-03      70\n",
              "2016-02      61\n",
              "Name: month, dtype: int64"
            ]
          },
          "metadata": {},
          "execution_count": 6
        }
      ],
      "source": [
        "df['month'].value_counts() # 월별 거래 횟수를 계산"
      ]
    },
    {
      "cell_type": "code",
      "execution_count": 7,
      "metadata": {
        "colab": {
          "base_uri": "https://localhost:8080/",
          "height": 263
        },
        "id": "yTUkwdHjHl0R",
        "outputId": "b05c4415-8507-4a2d-bfd1-fdf0b53bb57c"
      },
      "outputs": [
        {
          "output_type": "display_data",
          "data": {
            "text/plain": [
              "<Figure size 432x288 with 1 Axes>"
            ],
            "image/png": "[encoded data removed]"
          },
          "metadata": {
            "needs_background": "light"
          }
        }
      ],
      "source": [
        "df_day = pd.to_datetime(df['create_date'].apply(lambda x: x[:10])).value_counts()\n",
        "df_day.plot()\n",
        "plt.show()"
      ]
    },
    {
      "cell_type": "code",
      "execution_count": 8,
      "metadata": {
        "colab": {
          "base_uri": "https://localhost:8080/",
          "height": 295
        },
        "id": "V0rE8feQHpTs",
        "outputId": "d4f1be2a-5c34-4437-bd21-f116fc902f6d"
      },
      "outputs": [
        {
          "output_type": "execute_result",
          "data": {
            "text/plain": [
              "<matplotlib.axes._subplots.AxesSubplot at 0x7f5a1a6c5f50>"
            ]
          },
          "metadata": {},
          "execution_count": 8
        },
        {
          "output_type": "display_data",
          "data": {
            "text/plain": [
              "<Figure size 432x288 with 1 Axes>"
            ],
            "image/png": "[encoded data removed]"
          },
          "metadata": {
            "needs_background": "light"
          }
        }
      ],
      "source": [
        "df['price'].hist(bins=\"auto\")"
      ]
    },
    {
      "cell_type": "code",
      "execution_count": 9,
      "metadata": {
        "id": "5UrUz3MhHrsO"
      },
      "outputs": [],
      "source": [
        "df_price_model_mean = df.groupby('phone_model')['price'].transform(lambda x: np.mean(x)) # 핸드폰 기종별 평균\n",
        "df_price_model_std = df.groupby('phone_model')['price'].transform(lambda x: np.std(x)) # 핸드폰 기종별 표준편차"
      ]
    },
    {
      "cell_type": "code",
      "execution_count": 10,
      "metadata": {
        "colab": {
          "base_uri": "https://localhost:8080/",
          "height": 282
        },
        "id": "C5Ns8tRaHyN1",
        "outputId": "222baa4e-6668-4831-fb1e-8a0a15bc8b6f"
      },
      "outputs": [
        {
          "output_type": "execute_result",
          "data": {
            "text/plain": [
              "<matplotlib.axes._subplots.AxesSubplot at 0x7f5a1a65a750>"
            ]
          },
          "metadata": {},
          "execution_count": 10
        },
        {
          "output_type": "display_data",
          "data": {
            "text/plain": [
              "<Figure size 432x288 with 1 Axes>"
            ],
            "image/png": "[encoded data removed]"
          },
          "metadata": {
            "needs_background": "light"
          }
        }
      ],
      "source": [
        "df_price_model_z_score = (df['price'] - df_price_model_mean) / df_price_model_std # z_score 계산\n",
        "df_price_model_z_score.hist(bins=\"auto\")"
      ]
    },
    {
      "cell_type": "code",
      "execution_count": 11,
      "metadata": {
        "colab": {
          "base_uri": "https://localhost:8080/",
          "height": 295
        },
        "id": "k2wybwP0H99v",
        "outputId": "e8cda405-6a40-4bdf-f388-b2345d8cd3e2"
      },
      "outputs": [
        {
          "output_type": "execute_result",
          "data": {
            "text/plain": [
              "<matplotlib.axes._subplots.AxesSubplot at 0x7f5a1a5b0c90>"
            ]
          },
          "metadata": {},
          "execution_count": 11
        },
        {
          "output_type": "display_data",
          "data": {
            "text/plain": [
              "<Figure size 432x288 with 1 Axes>"
            ],
            "image/png": "[encoded data removed]"
          },
          "metadata": {
            "needs_background": "light"
          }
        }
      ],
      "source": [
        "df['factory_price'].hist(bins=\"auto\") # 분포도를 탐색한다."
      ]
    },
    {
      "cell_type": "code",
      "execution_count": 12,
      "metadata": {
        "colab": {
          "base_uri": "https://localhost:8080/",
          "height": 308
        },
        "id": "lQzUNEm3IDCU",
        "outputId": "e37459cb-eb63-449e-cdc7-f486f1a18b6a"
      },
      "outputs": [
        {
          "output_type": "execute_result",
          "data": {
            "text/plain": [
              "<matplotlib.axes._subplots.AxesSubplot at 0x7f5a1a33e4d0>"
            ]
          },
          "metadata": {},
          "execution_count": 12
        },
        {
          "output_type": "display_data",
          "data": {
            "text/plain": [
              "<Figure size 432x288 with 1 Axes>"
            ],
            "image/png": "[encoded data removed]"
          },
          "metadata": {
            "needs_background": "light"
          }
        }
      ],
      "source": [
        "df.plot.scatter(x='factory_price', y='price') # 출고가와 중고가격의 상관관계를 살펴본다."
      ]
    },
    {
      "cell_type": "code",
      "execution_count": 13,
      "metadata": {
        "colab": {
          "base_uri": "https://localhost:8080/",
          "height": 560
        },
        "id": "FQ9b0MoSIJG4",
        "outputId": "2f51ba47-4776-459e-d6ff-53e42307c1bb"
      },
      "outputs": [
        {
          "output_type": "stream",
          "name": "stdout",
          "text": [
            "count      64.000000\n",
            "mean       77.359375\n",
            "std       143.432786\n",
            "min        10.000000\n",
            "25%        23.000000\n",
            "50%        35.000000\n",
            "75%        90.500000\n",
            "max      1002.000000\n",
            "Name: phone_model, dtype: float64\n"
          ]
        },
        {
          "output_type": "execute_result",
          "data": {
            "text/plain": [
              "{'boxes': [<matplotlib.lines.Line2D at 0x7f5a1a269f10>],\n",
              " 'caps': [<matplotlib.lines.Line2D at 0x7f5a1a272f50>,\n",
              "  <matplotlib.lines.Line2D at 0x7f5a1a27a4d0>],\n",
              " 'fliers': [<matplotlib.lines.Line2D at 0x7f5a1a27af50>],\n",
              " 'means': [],\n",
              " 'medians': [<matplotlib.lines.Line2D at 0x7f5a1a27aa50>],\n",
              " 'whiskers': [<matplotlib.lines.Line2D at 0x7f5a1a2724d0>,\n",
              "  <matplotlib.lines.Line2D at 0x7f5a1a272a10>]}"
            ]
          },
          "metadata": {},
          "execution_count": 13
        },
        {
          "output_type": "display_data",
          "data": {
            "text/plain": [
              "<Figure size 432x288 with 1 Axes>"
            ],
            "image/png": "[encoded data removed]"
          },
          "metadata": {
            "needs_background": "light"
          }
        }
      ],
      "source": [
        "# 기종별 총 거래 데이터 개수를 집계\n",
        "model_counts = df['phone_model'].value_counts()\n",
        "print(model_counts.describe())\n",
        "\n",
        "# 기종별 총 거래 데이터 개수를 박스플롯\n",
        "plt.boxplot(model_counts)"
      ]
    },
    {
      "cell_type": "code",
      "execution_count": 14,
      "metadata": {
        "id": "bzlVifiMIQme"
      },
      "outputs": [],
      "source": [
        "from sklearn.model_selection import train_test_split\n",
        "from sklearn.feature_extraction import DictVectorizer\n",
        "from sklearn.ensemble import RandomForestRegressor\n",
        "from sklearn.metrics import r2_score\n",
        "from sklearn.metrics import mean_squared_error"
      ]
    },
    {
      "cell_type": "code",
      "execution_count": 15,
      "metadata": {
        "colab": {
          "base_uri": "https://localhost:8080/",
          "height": 1000
        },
        "id": "gGQsxP7lISAq",
        "outputId": "c7696474-0e80-42eb-ac65-f4415935103c"
      },
      "outputs": [
        {
          "output_type": "execute_result",
          "data": {
            "text/plain": [
              "                  create_date      price  \\\n",
              "0      2017-03-19  4 35 00 PM   550000.0   \n",
              "1     2016-10-26  12 08 00 PM   380000.0   \n",
              "2     2016-10-25  12 52 00 PM   300000.0   \n",
              "3     2017-03-23  11 14 00 PM   290000.0   \n",
              "4      2016-04-11  7 35 00 PM   280000.0   \n",
              "...                       ...        ...   \n",
              "4946  2016-10-10  11 29 00 AM  1300000.0   \n",
              "4947  2016-10-24  10 03 00 PM  1300000.0   \n",
              "4948  2016-09-19  10 15 00 AM  1300000.0   \n",
              "4949  2016-10-05  12 22 00 AM  1350000.0   \n",
              "4950  2016-09-26  11 37 00 AM  1500000.0   \n",
              "\n",
              "                                                   text          phone_model  \\\n",
              "0     아이폰6플러스 블랙+애플라이트 64기가 팝니다  아이폰6플러스 블랙+애플라이트 64...        iphone 6 64gb   \n",
              "1     갤럭시s6엣지 32기가 팝니다 직거래  갤럭시s6엣지 32기가 품명 갤럭시s6엣지제...  galaxy s6 edge 32gb   \n",
              "2     갤럭시s6 풀박스로 팝니다~~~ 새상품급  실기스조차 없어요  직접거래 구매한지 1...       galaxy s6 32gb   \n",
              "3     sk  g5 티탄 폰 단품판매합니다  직접거래 sk g5 티탄 폰 단품판매합니다 올...           lg g5 32gb   \n",
              "4      sony 엑스페리아 c5 ultra e5506 16gb  미사용 새제품 팝니다 1...            lg u 32gb   \n",
              "...                                                 ...                  ...   \n",
              "4946  미개봉 언락폰 아이폰7플러스 256gb 골드 iphone7 plus 강북 도봉\\t ...  iphone 7 plus 256gb   \n",
              "4947  미국판 아이폰7 256g 제트블랙 강남역삼 2대 미개봉언락 애플 a1660 강남역삼...       iphone 7 256gb   \n",
              "4948  아이폰7 미개봉 홍콩판 팝니다 케이스,강화유리서비스 종류다양 아이폰7  917,91...       iphone 7 256gb   \n",
              "4949  미개봉 언락폰 아이폰7플러스 256gb 골드 iphone7 plus 강북 도봉 미개...  iphone 7 plus 256gb   \n",
              "4950   팝니다  아이폰 7 128gb 제트블랙 북미판  카메라 무음, 국내리퍼 가능  1...       iphone 7 128gb   \n",
              "\n",
              "      factory_price    maker  price_index    month  \n",
              "0            924000    apple        95.96  2017-03  \n",
              "1            979000  samsung       103.05  2016-10  \n",
              "2            854000  samsung       103.05  2016-10  \n",
              "3            836000       lg        95.96  2017-03  \n",
              "4            396000       lg       102.59  2016-04  \n",
              "...             ...      ...          ...      ...  \n",
              "4946        1283700    apple       103.05  2016-10  \n",
              "4947        1130800    apple       103.05  2016-10  \n",
              "4948        1130800    apple       103.05  2016-09  \n",
              "4949        1283700    apple       103.05  2016-10  \n",
              "4950         999000    apple       103.05  2016-09  \n",
              "\n",
              "[4951 rows x 8 columns]"
            ],
            "text/html": [
              "\n",
              "  <div id=\"df-8a587e6e-d154-4b50-9129-1e0d0a45e20a\">\n",
              "    <div class=\"colab-df-container\">\n",
              "      <div>\n",
              "<style scoped>\n",
              "    .dataframe tbody tr th:only-of-type {\n",
              "        vertical-align: middle;\n",
              "    }\n",
              "\n",
              "    .dataframe tbody tr th {\n",
              "        vertical-align: top;\n",
              "    }\n",
              "\n",
              "    .dataframe thead th {\n",
              "        text-align: right;\n",
              "    }\n",
              "</style>\n",
              "<table border=\"1\" class=\"dataframe\">\n",
              "  <thead>\n",
              "    <tr style=\"text-align: right;\">\n",
              "      <th></th>\n",
              "      <th>create_date</th>\n",
              "      <th>price</th>\n",
              "      <th>text</th>\n",
              "      <th>phone_model</th>\n",
              "      <th>factory_price</th>\n",
              "      <th>maker</th>\n",
              "      <th>price_index</th>\n",
              "      <th>month</th>\n",
              "    </tr>\n",
              "  </thead>\n",
              "  <tbody>\n",
              "    <tr>\n",
              "      <th>0</th>\n",
              "      <td>2017-03-19  4 35 00 PM</td>\n",
              "      <td>550000.0</td>\n",
              "      <td>아이폰6플러스 블랙+애플라이트 64기가 팝니다  아이폰6플러스 블랙+애플라이트 64...</td>\n",
              "      <td>iphone 6 64gb</td>\n",
              "      <td>924000</td>\n",
              "      <td>apple</td>\n",
              "      <td>95.96</td>\n",
              "      <td>2017-03</td>\n",
              "    </tr>\n",
              "    <tr>\n",
              "      <th>1</th>\n",
              "      <td>2016-10-26  12 08 00 PM</td>\n",
              "      <td>380000.0</td>\n",
              "      <td>갤럭시s6엣지 32기가 팝니다 직거래  갤럭시s6엣지 32기가 품명 갤럭시s6엣지제...</td>\n",
              "      <td>galaxy s6 edge 32gb</td>\n",
              "      <td>979000</td>\n",
              "      <td>samsung</td>\n",
              "      <td>103.05</td>\n",
              "      <td>2016-10</td>\n",
              "    </tr>\n",
              "    <tr>\n",
              "      <th>2</th>\n",
              "      <td>2016-10-25  12 52 00 PM</td>\n",
              "      <td>300000.0</td>\n",
              "      <td>갤럭시s6 풀박스로 팝니다~~~ 새상품급  실기스조차 없어요  직접거래 구매한지 1...</td>\n",
              "      <td>galaxy s6 32gb</td>\n",
              "      <td>854000</td>\n",
              "      <td>samsung</td>\n",
              "      <td>103.05</td>\n",
              "      <td>2016-10</td>\n",
              "    </tr>\n",
              "    <tr>\n",
              "      <th>3</th>\n",
              "      <td>2017-03-23  11 14 00 PM</td>\n",
              "      <td>290000.0</td>\n",
              "      <td>sk  g5 티탄 폰 단품판매합니다  직접거래 sk g5 티탄 폰 단품판매합니다 올...</td>\n",
              "      <td>lg g5 32gb</td>\n",
              "      <td>836000</td>\n",
              "      <td>lg</td>\n",
              "      <td>95.96</td>\n",
              "      <td>2017-03</td>\n",
              "    </tr>\n",
              "    <tr>\n",
              "      <th>4</th>\n",
              "      <td>2016-04-11  7 35 00 PM</td>\n",
              "      <td>280000.0</td>\n",
              "      <td>sony 엑스페리아 c5 ultra e5506 16gb  미사용 새제품 팝니다 1...</td>\n",
              "      <td>lg u 32gb</td>\n",
              "      <td>396000</td>\n",
              "      <td>lg</td>\n",
              "      <td>102.59</td>\n",
              "      <td>2016-04</td>\n",
              "    </tr>\n",
              "    <tr>\n",
              "      <th>...</th>\n",
              "      <td>...</td>\n",
              "      <td>...</td>\n",
              "      <td>...</td>\n",
              "      <td>...</td>\n",
              "      <td>...</td>\n",
              "      <td>...</td>\n",
              "      <td>...</td>\n",
              "      <td>...</td>\n",
              "    </tr>\n",
              "    <tr>\n",
              "      <th>4946</th>\n",
              "      <td>2016-10-10  11 29 00 AM</td>\n",
              "      <td>1300000.0</td>\n",
              "      <td>미개봉 언락폰 아이폰7플러스 256gb 골드 iphone7 plus 강북 도봉\\t ...</td>\n",
              "      <td>iphone 7 plus 256gb</td>\n",
              "      <td>1283700</td>\n",
              "      <td>apple</td>\n",
              "      <td>103.05</td>\n",
              "      <td>2016-10</td>\n",
              "    </tr>\n",
              "    <tr>\n",
              "      <th>4947</th>\n",
              "      <td>2016-10-24  10 03 00 PM</td>\n",
              "      <td>1300000.0</td>\n",
              "      <td>미국판 아이폰7 256g 제트블랙 강남역삼 2대 미개봉언락 애플 a1660 강남역삼...</td>\n",
              "      <td>iphone 7 256gb</td>\n",
              "      <td>1130800</td>\n",
              "      <td>apple</td>\n",
              "      <td>103.05</td>\n",
              "      <td>2016-10</td>\n",
              "    </tr>\n",
              "    <tr>\n",
              "      <th>4948</th>\n",
              "      <td>2016-09-19  10 15 00 AM</td>\n",
              "      <td>1300000.0</td>\n",
              "      <td>아이폰7 미개봉 홍콩판 팝니다 케이스,강화유리서비스 종류다양 아이폰7  917,91...</td>\n",
              "      <td>iphone 7 256gb</td>\n",
              "      <td>1130800</td>\n",
              "      <td>apple</td>\n",
              "      <td>103.05</td>\n",
              "      <td>2016-09</td>\n",
              "    </tr>\n",
              "    <tr>\n",
              "      <th>4949</th>\n",
              "      <td>2016-10-05  12 22 00 AM</td>\n",
              "      <td>1350000.0</td>\n",
              "      <td>미개봉 언락폰 아이폰7플러스 256gb 골드 iphone7 plus 강북 도봉 미개...</td>\n",
              "      <td>iphone 7 plus 256gb</td>\n",
              "      <td>1283700</td>\n",
              "      <td>apple</td>\n",
              "      <td>103.05</td>\n",
              "      <td>2016-10</td>\n",
              "    </tr>\n",
              "    <tr>\n",
              "      <th>4950</th>\n",
              "      <td>2016-09-26  11 37 00 AM</td>\n",
              "      <td>1500000.0</td>\n",
              "      <td>팝니다  아이폰 7 128gb 제트블랙 북미판  카메라 무음, 국내리퍼 가능  1...</td>\n",
              "      <td>iphone 7 128gb</td>\n",
              "      <td>999000</td>\n",
              "      <td>apple</td>\n",
              "      <td>103.05</td>\n",
              "      <td>2016-09</td>\n",
              "    </tr>\n",
              "  </tbody>\n",
              "</table>\n",
              "<p>4951 rows × 8 columns</p>\n",
              "</div>\n",
              "      <button class=\"colab-df-convert\" onclick=\"convertToInteractive('df-8a587e6e-d154-4b50-9129-1e0d0a45e20a')\"\n",
              "              title=\"Convert this dataframe to an interactive table.\"\n",
              "              style=\"display:none;\">\n",
              "        \n",
              "  <svg xmlns=\"http://www.w3.org/2000/svg\" height=\"24px\"viewBox=\"0 0 24 24\"\n",
              "       width=\"24px\">\n",
              "    <path d=\"M0 0h24v24H0V0z\" fill=\"none\"/>\n",
              "    <path d=\"M18.56 5.44l.94 2.06.94-2.06 2.06-.94-2.06-.94-.94-2.06-.94 2.06-2.06.94zm-11 1L8.5 8.5l.94-2.06 2.06-.94-2.06-.94L8.5 2.5l-.94 2.06-2.06.94zm10 10l.94 2.06.94-2.06 2.06-.94-2.06-.94-.94-2.06-.94 2.06-2.06.94z\"/><path d=\"M17.41 7.96l-1.37-1.37c-.4-.4-.92-.59-1.43-.59-.52 0-1.04.2-1.43.59L10.3 9.45l-7.72 7.72c-.78.78-.78 2.05 0 2.83L4 21.41c.39.39.9.59 1.41.59.51 0 1.02-.2 1.41-.59l7.78-7.78 2.81-2.81c.8-.78.8-2.07 0-2.86zM5.41 20L4 18.59l7.72-7.72 1.47 1.35L5.41 20z\"/>\n",
              "  </svg>\n",
              "      </button>\n",
              "      \n",
              "  <style>\n",
              "    .colab-df-container {\n",
              "      display:flex;\n",
              "      flex-wrap:wrap;\n",
              "      gap: 12px;\n",
              "    }\n",
              "\n",
              "    .colab-df-convert {\n",
              "      background-color: #E8F0FE;\n",
              "      border: none;\n",
              "      border-radius: 50%;\n",
              "      cursor: pointer;\n",
              "      display: none;\n",
              "      fill: #1967D2;\n",
              "      height: 32px;\n",
              "      padding: 0 0 0 0;\n",
              "      width: 32px;\n",
              "    }\n",
              "\n",
              "    .colab-df-convert:hover {\n",
              "      background-color: #E2EBFA;\n",
              "      box-shadow: 0px 1px 2px rgba(60, 64, 67, 0.3), 0px 1px 3px 1px rgba(60, 64, 67, 0.15);\n",
              "      fill: #174EA6;\n",
              "    }\n",
              "\n",
              "    [theme=dark] .colab-df-convert {\n",
              "      background-color: #3B4455;\n",
              "      fill: #D2E3FC;\n",
              "    }\n",
              "\n",
              "    [theme=dark] .colab-df-convert:hover {\n",
              "      background-color: #434B5C;\n",
              "      box-shadow: 0px 1px 3px 1px rgba(0, 0, 0, 0.15);\n",
              "      filter: drop-shadow(0px 1px 2px rgba(0, 0, 0, 0.3));\n",
              "      fill: #FFFFFF;\n",
              "    }\n",
              "  </style>\n",
              "\n",
              "      <script>\n",
              "        const buttonEl =\n",
              "          document.querySelector('#df-8a587e6e-d154-4b50-9129-1e0d0a45e20a button.colab-df-convert');\n",
              "        buttonEl.style.display =\n",
              "          google.colab.kernel.accessAllowed ? 'block' : 'none';\n",
              "\n",
              "        async function convertToInteractive(key) {\n",
              "          const element = document.querySelector('#df-8a587e6e-d154-4b50-9129-1e0d0a45e20a');\n",
              "          const dataTable =\n",
              "            await google.colab.kernel.invokeFunction('convertToInteractive',\n",
              "                                                     [key], {});\n",
              "          if (!dataTable) return;\n",
              "\n",
              "          const docLinkHtml = 'Like what you see? Visit the ' +\n",
              "            '<a target=\"_blank\" href=https://colab.research.google.com/notebooks/data_table.ipynb>data table notebook</a>'\n",
              "            + ' to learn more about interactive tables.';\n",
              "          element.innerHTML = '';\n",
              "          dataTable['output_type'] = 'display_data';\n",
              "          await google.colab.output.renderOutput(dataTable, element);\n",
              "          const docLink = document.createElement('div');\n",
              "          docLink.innerHTML = docLinkHtml;\n",
              "          element.appendChild(docLink);\n",
              "        }\n",
              "      </script>\n",
              "    </div>\n",
              "  </div>\n",
              "  "
            ]
          },
          "metadata": {},
          "execution_count": 15
        }
      ],
      "source": [
        "df"
      ]
    },
    {
      "cell_type": "code",
      "execution_count": 16,
      "metadata": {
        "id": "o3RFPA5eIU2A"
      },
      "outputs": [],
      "source": [
        "df = df[['price', 'phone_model', 'factory_price', 'maker', 'price_index', 'month']]\n",
        "df = pd.get_dummies(df, columns=['phone_model', 'maker', 'month'])\n",
        "X = df.loc[:, df.columns != 'price']\n",
        "y = df['price']\n",
        "X_train, X_test, y_train, y_test = train_test_split(X, y, test_size=0.3, random_state=0) # 데이터를 학습/테스트용으로 분리한다."
      ]
    },
    {
      "cell_type": "code",
      "execution_count": 17,
      "metadata": {
        "colab": {
          "base_uri": "https://localhost:8080/"
        },
        "id": "I0h2vLsbIcsy",
        "outputId": "f71a0429-7f03-4e60-ca13-268252078199"
      },
      "outputs": [
        {
          "output_type": "stream",
          "name": "stderr",
          "text": [
            "/usr/local/lib/python3.7/dist-packages/sklearn/ensemble/_forest.py:400: FutureWarning: Criterion 'mse' was deprecated in v1.0 and will be removed in version 1.2. Use `criterion='squared_error'` which is equivalent.\n",
            "  FutureWarning,\n"
          ]
        }
      ],
      "source": [
        "# 랜덤 포레스트 모델을 학습\n",
        "forest = RandomForestRegressor(n_estimators=1000,\n",
        "                               criterion='mse')\n",
        "forest.fit(X_train, y_train)\n",
        "y_train_pred = forest.predict(X_train)\n",
        "y_test_pred = forest.predict(X_test)"
      ]
    },
    {
      "cell_type": "code",
      "execution_count": 18,
      "metadata": {
        "colab": {
          "base_uri": "https://localhost:8080/"
        },
        "id": "6LcUJB3TIj1P",
        "outputId": "2e57be91-93ee-4b47-b90a-6893831d5271"
      },
      "outputs": [
        {
          "output_type": "stream",
          "name": "stdout",
          "text": [
            "MSE train: 10624611401.014, test: 13854218811.577\n",
            "R^2 train: 0.781, test: 0.683\n"
          ]
        }
      ],
      "source": [
        "# 학습한 모델을 평가\n",
        "print('MSE train: %.3f, test: %.3f' % (\n",
        "        mean_squared_error(y_train, y_train_pred),\n",
        "        mean_squared_error(y_test, y_test_pred)))\n",
        "print('R^2 train: %.3f, test: %.3f' % (\n",
        "        r2_score(y_train, y_train_pred),\n",
        "        r2_score(y_test, y_test_pred)))"
      ]
    },
    {
      "cell_type": "code",
      "execution_count": 19,
      "metadata": {
        "colab": {
          "base_uri": "https://localhost:8080/"
        },
        "id": "zFhob7IBInT4",
        "outputId": "7168a8c7-8190-4281-8bf4-524ad38895a2"
      },
      "outputs": [
        {
          "output_type": "execute_result",
          "data": {
            "text/plain": [
              "[('factory_price', 0.4056929128487562),\n",
              " ('maker_apple', 0.29758207259806096),\n",
              " ('phone_model_galaxy s3 3g 8gb', 0.02220637676537083),\n",
              " ('phone_model_iphone se 64gb', 0.0215616787627863),\n",
              " ('price_index', 0.020448592702819277),\n",
              " ('phone_model_galaxy s4 32gb', 0.016974038931957428),\n",
              " ('month_2017-03', 0.01494633794512112),\n",
              " ('maker_samsung', 0.014646450395368653),\n",
              " ('phone_model_galaxy s6 32gb', 0.012534262769972862),\n",
              " ('month_2016-05', 0.010852159944953189)]"
            ]
          },
          "metadata": {},
          "execution_count": 19
        }
      ],
      "source": [
        "feat_labels = X.columns.tolist() # 학습한 모델의 피처 중요도를 확인\n",
        "feature = list(zip(feat_labels, forest.feature_importances_))\n",
        "sorted(feature, key=lambda tup: tup[1], reverse=True)[:10]"
      ]
    },
    {
      "cell_type": "code",
      "execution_count": 20,
      "metadata": {
        "colab": {
          "base_uri": "https://localhost:8080/",
          "height": 282
        },
        "id": "00uBGR4HItbT",
        "outputId": "786ba447-8180-4ae6-9501-63ccc4448412"
      },
      "outputs": [
        {
          "output_type": "execute_result",
          "data": {
            "text/plain": [
              "<BarContainer object of 84 artists>"
            ]
          },
          "metadata": {},
          "execution_count": 20
        },
        {
          "output_type": "display_data",
          "data": {
            "text/plain": [
              "<Figure size 432x288 with 1 Axes>"
            ],
            "image/png": "[encoded data removed]"
          },
          "metadata": {
            "needs_background": "light"
          }
        }
      ],
      "source": [
        "importances = forest.feature_importances_ # 피쳐 중요도를 그래프로 표시\n",
        "indices = np.argsort(importances)[::-1]\n",
        "plt.bar(range(X.shape[1]), importances[indices])"
      ]
    },
    {
      "cell_type": "code",
      "execution_count": 21,
      "metadata": {
        "colab": {
          "base_uri": "https://localhost:8080/",
          "height": 306
        },
        "id": "z0NP7PPkI1tM",
        "outputId": "7112048a-c1fe-4c36-c2f2-eebbafbbb316"
      },
      "outputs": [
        {
          "output_type": "execute_result",
          "data": {
            "text/plain": [
              "<matplotlib.collections.PathCollection at 0x7f5a18c450d0>"
            ]
          },
          "metadata": {},
          "execution_count": 21
        },
        {
          "output_type": "display_data",
          "data": {
            "text/plain": [
              "<Figure size 432x288 with 1 Axes>"
            ],
            "image/png": "[encoded data removed]"
          },
          "metadata": {
            "needs_background": "light"
          }
        }
      ],
      "source": [
        "plt.scatter(y_test.values, y_test_pred) # 예측결과를 scatter plot으로 표시"
      ]
    },
    {
      "cell_type": "code",
      "execution_count": 22,
      "metadata": {
        "id": "PRizZo_jKeNa"
      },
      "outputs": [],
      "source": [
        "# 데이터를 다시 불러옵니다.\n",
        "df = pd.read_csv(\"/content/drive/MyDrive/used_retail/used_mobile_phone.csv\")"
      ]
    },
    {
      "cell_type": "code",
      "execution_count": 23,
      "metadata": {
        "colab": {
          "base_uri": "https://localhost:8080/"
        },
        "id": "V21GM0-_KIeP",
        "outputId": "a1d0aba2-36fe-49be-8122-784fa4cd8996"
      },
      "outputs": [
        {
          "output_type": "stream",
          "name": "stdout",
          "text": [
            "0    1.489882e+09\n",
            "1    1.477440e+09\n",
            "2    1.477354e+09\n",
            "3    1.490227e+09\n",
            "4    1.460333e+09\n",
            "5    1.490141e+09\n",
            "6    1.490227e+09\n",
            "7    1.475798e+09\n",
            "8    1.490400e+09\n",
            "9    1.458691e+09\n",
            "Name: create_unixtime, dtype: float64\n"
          ]
        }
      ],
      "source": [
        "from datetime import datetime\n",
        "import time\n",
        "\n",
        "# create_date 피처를 수치적으로 계산하기 위해, unixtime으로 변환하는 함수를 정의\n",
        "def date_to_unixtime(date_str):\n",
        "    timestamp = time.mktime(datetime.strptime(date_str, '%Y-%m-%d').timetuple())\n",
        "    return timestamp\n",
        "\n",
        "# create_date 피처를 ‘현재와 얼마나 가까운 데이터인 지’ 판단하기 위한 점수를 생성합니다. 먼저 unixtime으로 데이터를 변환\n",
        "df['create_unixtime'] = df['create_date'].apply(lambda x: date_to_unixtime(x[:10]))\n",
        "print(df['create_unixtime'][:10])"
      ]
    },
    {
      "cell_type": "code",
      "execution_count": 24,
      "metadata": {
        "colab": {
          "base_uri": "https://localhost:8080/",
          "height": 206
        },
        "id": "ykQoJBf9KujZ",
        "outputId": "2d827982-80aa-403a-d729-39463f59c4e2"
      },
      "outputs": [
        {
          "output_type": "execute_result",
          "data": {
            "text/plain": [
              "               create_date  create_unixtime  create_time_score\n",
              "0   2017-03-19  4 35 00 PM     1.489882e+09           0.985612\n",
              "1  2016-10-26  12 08 00 PM     1.477440e+09           0.640288\n",
              "2  2016-10-25  12 52 00 PM     1.477354e+09           0.637890\n",
              "3  2017-03-23  11 14 00 PM     1.490227e+09           0.995204\n",
              "4   2016-04-11  7 35 00 PM     1.460333e+09           0.165468"
            ],
            "text/html": [
              "\n",
              "  <div id=\"df-d98eadd5-e938-4e47-abfc-97d0c5c245e0\">\n",
              "    <div class=\"colab-df-container\">\n",
              "      <div>\n",
              "<style scoped>\n",
              "    .dataframe tbody tr th:only-of-type {\n",
              "        vertical-align: middle;\n",
              "    }\n",
              "\n",
              "    .dataframe tbody tr th {\n",
              "        vertical-align: top;\n",
              "    }\n",
              "\n",
              "    .dataframe thead th {\n",
              "        text-align: right;\n",
              "    }\n",
              "</style>\n",
              "<table border=\"1\" class=\"dataframe\">\n",
              "  <thead>\n",
              "    <tr style=\"text-align: right;\">\n",
              "      <th></th>\n",
              "      <th>create_date</th>\n",
              "      <th>create_unixtime</th>\n",
              "      <th>create_time_score</th>\n",
              "    </tr>\n",
              "  </thead>\n",
              "  <tbody>\n",
              "    <tr>\n",
              "      <th>0</th>\n",
              "      <td>2017-03-19  4 35 00 PM</td>\n",
              "      <td>1.489882e+09</td>\n",
              "      <td>0.985612</td>\n",
              "    </tr>\n",
              "    <tr>\n",
              "      <th>1</th>\n",
              "      <td>2016-10-26  12 08 00 PM</td>\n",
              "      <td>1.477440e+09</td>\n",
              "      <td>0.640288</td>\n",
              "    </tr>\n",
              "    <tr>\n",
              "      <th>2</th>\n",
              "      <td>2016-10-25  12 52 00 PM</td>\n",
              "      <td>1.477354e+09</td>\n",
              "      <td>0.637890</td>\n",
              "    </tr>\n",
              "    <tr>\n",
              "      <th>3</th>\n",
              "      <td>2017-03-23  11 14 00 PM</td>\n",
              "      <td>1.490227e+09</td>\n",
              "      <td>0.995204</td>\n",
              "    </tr>\n",
              "    <tr>\n",
              "      <th>4</th>\n",
              "      <td>2016-04-11  7 35 00 PM</td>\n",
              "      <td>1.460333e+09</td>\n",
              "      <td>0.165468</td>\n",
              "    </tr>\n",
              "  </tbody>\n",
              "</table>\n",
              "</div>\n",
              "      <button class=\"colab-df-convert\" onclick=\"convertToInteractive('df-d98eadd5-e938-4e47-abfc-97d0c5c245e0')\"\n",
              "              title=\"Convert this dataframe to an interactive table.\"\n",
              "              style=\"display:none;\">\n",
              "        \n",
              "  <svg xmlns=\"http://www.w3.org/2000/svg\" height=\"24px\"viewBox=\"0 0 24 24\"\n",
              "       width=\"24px\">\n",
              "    <path d=\"M0 0h24v24H0V0z\" fill=\"none\"/>\n",
              "    <path d=\"M18.56 5.44l.94 2.06.94-2.06 2.06-.94-2.06-.94-.94-2.06-.94 2.06-2.06.94zm-11 1L8.5 8.5l.94-2.06 2.06-.94-2.06-.94L8.5 2.5l-.94 2.06-2.06.94zm10 10l.94 2.06.94-2.06 2.06-.94-2.06-.94-.94-2.06-.94 2.06-2.06.94z\"/><path d=\"M17.41 7.96l-1.37-1.37c-.4-.4-.92-.59-1.43-.59-.52 0-1.04.2-1.43.59L10.3 9.45l-7.72 7.72c-.78.78-.78 2.05 0 2.83L4 21.41c.39.39.9.59 1.41.59.51 0 1.02-.2 1.41-.59l7.78-7.78 2.81-2.81c.8-.78.8-2.07 0-2.86zM5.41 20L4 18.59l7.72-7.72 1.47 1.35L5.41 20z\"/>\n",
              "  </svg>\n",
              "      </button>\n",
              "      \n",
              "  <style>\n",
              "    .colab-df-container {\n",
              "      display:flex;\n",
              "      flex-wrap:wrap;\n",
              "      gap: 12px;\n",
              "    }\n",
              "\n",
              "    .colab-df-convert {\n",
              "      background-color: #E8F0FE;\n",
              "      border: none;\n",
              "      border-radius: 50%;\n",
              "      cursor: pointer;\n",
              "      display: none;\n",
              "      fill: #1967D2;\n",
              "      height: 32px;\n",
              "      padding: 0 0 0 0;\n",
              "      width: 32px;\n",
              "    }\n",
              "\n",
              "    .colab-df-convert:hover {\n",
              "      background-color: #E2EBFA;\n",
              "      box-shadow: 0px 1px 2px rgba(60, 64, 67, 0.3), 0px 1px 3px 1px rgba(60, 64, 67, 0.15);\n",
              "      fill: #174EA6;\n",
              "    }\n",
              "\n",
              "    [theme=dark] .colab-df-convert {\n",
              "      background-color: #3B4455;\n",
              "      fill: #D2E3FC;\n",
              "    }\n",
              "\n",
              "    [theme=dark] .colab-df-convert:hover {\n",
              "      background-color: #434B5C;\n",
              "      box-shadow: 0px 1px 3px 1px rgba(0, 0, 0, 0.15);\n",
              "      filter: drop-shadow(0px 1px 2px rgba(0, 0, 0, 0.3));\n",
              "      fill: #FFFFFF;\n",
              "    }\n",
              "  </style>\n",
              "\n",
              "      <script>\n",
              "        const buttonEl =\n",
              "          document.querySelector('#df-d98eadd5-e938-4e47-abfc-97d0c5c245e0 button.colab-df-convert');\n",
              "        buttonEl.style.display =\n",
              "          google.colab.kernel.accessAllowed ? 'block' : 'none';\n",
              "\n",
              "        async function convertToInteractive(key) {\n",
              "          const element = document.querySelector('#df-d98eadd5-e938-4e47-abfc-97d0c5c245e0');\n",
              "          const dataTable =\n",
              "            await google.colab.kernel.invokeFunction('convertToInteractive',\n",
              "                                                     [key], {});\n",
              "          if (!dataTable) return;\n",
              "\n",
              "          const docLinkHtml = 'Like what you see? Visit the ' +\n",
              "            '<a target=\"_blank\" href=https://colab.research.google.com/notebooks/data_table.ipynb>data table notebook</a>'\n",
              "            + ' to learn more about interactive tables.';\n",
              "          element.innerHTML = '';\n",
              "          dataTable['output_type'] = 'display_data';\n",
              "          await google.colab.output.renderOutput(dataTable, element);\n",
              "          const docLink = document.createElement('div');\n",
              "          docLink.innerHTML = docLinkHtml;\n",
              "          element.appendChild(docLink);\n",
              "        }\n",
              "      </script>\n",
              "    </div>\n",
              "  </div>\n",
              "  "
            ]
          },
          "metadata": {},
          "execution_count": 24
        }
      ],
      "source": [
        "# 변환된 unixtime에 min-max 스케일링을 적용\n",
        "df['create_time_score'] = (df['create_unixtime'] - df['create_unixtime'].min()) / \\\n",
        "                          (df['create_unixtime'].max() - df['create_unixtime'].min())\n",
        "df[['create_date', 'create_unixtime', 'create_time_score']].head()"
      ]
    },
    {
      "cell_type": "code",
      "execution_count": 25,
      "metadata": {
        "colab": {
          "base_uri": "https://localhost:8080/",
          "height": 206
        },
        "id": "KPklARnNK1dy",
        "outputId": "8f12a5da-6921-451b-bfd6-99f1745ffcb8"
      },
      "outputs": [
        {
          "output_type": "execute_result",
          "data": {
            "text/plain": [
              "  phone_model_storage phone_model_detail\n",
              "0                64gb           iphone 6\n",
              "1                32gb     galaxy s6 edge\n",
              "2                32gb          galaxy s6\n",
              "3                32gb              lg g5\n",
              "4                32gb               lg u"
            ],
            "text/html": [
              "\n",
              "  <div id=\"df-2f9fa773-9de4-43a5-8f09-0a3bae23964e\">\n",
              "    <div class=\"colab-df-container\">\n",
              "      <div>\n",
              "<style scoped>\n",
              "    .dataframe tbody tr th:only-of-type {\n",
              "        vertical-align: middle;\n",
              "    }\n",
              "\n",
              "    .dataframe tbody tr th {\n",
              "        vertical-align: top;\n",
              "    }\n",
              "\n",
              "    .dataframe thead th {\n",
              "        text-align: right;\n",
              "    }\n",
              "</style>\n",
              "<table border=\"1\" class=\"dataframe\">\n",
              "  <thead>\n",
              "    <tr style=\"text-align: right;\">\n",
              "      <th></th>\n",
              "      <th>phone_model_storage</th>\n",
              "      <th>phone_model_detail</th>\n",
              "    </tr>\n",
              "  </thead>\n",
              "  <tbody>\n",
              "    <tr>\n",
              "      <th>0</th>\n",
              "      <td>64gb</td>\n",
              "      <td>iphone 6</td>\n",
              "    </tr>\n",
              "    <tr>\n",
              "      <th>1</th>\n",
              "      <td>32gb</td>\n",
              "      <td>galaxy s6 edge</td>\n",
              "    </tr>\n",
              "    <tr>\n",
              "      <th>2</th>\n",
              "      <td>32gb</td>\n",
              "      <td>galaxy s6</td>\n",
              "    </tr>\n",
              "    <tr>\n",
              "      <th>3</th>\n",
              "      <td>32gb</td>\n",
              "      <td>lg g5</td>\n",
              "    </tr>\n",
              "    <tr>\n",
              "      <th>4</th>\n",
              "      <td>32gb</td>\n",
              "      <td>lg u</td>\n",
              "    </tr>\n",
              "  </tbody>\n",
              "</table>\n",
              "</div>\n",
              "      <button class=\"colab-df-convert\" onclick=\"convertToInteractive('df-2f9fa773-9de4-43a5-8f09-0a3bae23964e')\"\n",
              "              title=\"Convert this dataframe to an interactive table.\"\n",
              "              style=\"display:none;\">\n",
              "        \n",
              "  <svg xmlns=\"http://www.w3.org/2000/svg\" height=\"24px\"viewBox=\"0 0 24 24\"\n",
              "       width=\"24px\">\n",
              "    <path d=\"M0 0h24v24H0V0z\" fill=\"none\"/>\n",
              "    <path d=\"M18.56 5.44l.94 2.06.94-2.06 2.06-.94-2.06-.94-.94-2.06-.94 2.06-2.06.94zm-11 1L8.5 8.5l.94-2.06 2.06-.94-2.06-.94L8.5 2.5l-.94 2.06-2.06.94zm10 10l.94 2.06.94-2.06 2.06-.94-2.06-.94-.94-2.06-.94 2.06-2.06.94z\"/><path d=\"M17.41 7.96l-1.37-1.37c-.4-.4-.92-.59-1.43-.59-.52 0-1.04.2-1.43.59L10.3 9.45l-7.72 7.72c-.78.78-.78 2.05 0 2.83L4 21.41c.39.39.9.59 1.41.59.51 0 1.02-.2 1.41-.59l7.78-7.78 2.81-2.81c.8-.78.8-2.07 0-2.86zM5.41 20L4 18.59l7.72-7.72 1.47 1.35L5.41 20z\"/>\n",
              "  </svg>\n",
              "      </button>\n",
              "      \n",
              "  <style>\n",
              "    .colab-df-container {\n",
              "      display:flex;\n",
              "      flex-wrap:wrap;\n",
              "      gap: 12px;\n",
              "    }\n",
              "\n",
              "    .colab-df-convert {\n",
              "      background-color: #E8F0FE;\n",
              "      border: none;\n",
              "      border-radius: 50%;\n",
              "      cursor: pointer;\n",
              "      display: none;\n",
              "      fill: #1967D2;\n",
              "      height: 32px;\n",
              "      padding: 0 0 0 0;\n",
              "      width: 32px;\n",
              "    }\n",
              "\n",
              "    .colab-df-convert:hover {\n",
              "      background-color: #E2EBFA;\n",
              "      box-shadow: 0px 1px 2px rgba(60, 64, 67, 0.3), 0px 1px 3px 1px rgba(60, 64, 67, 0.15);\n",
              "      fill: #174EA6;\n",
              "    }\n",
              "\n",
              "    [theme=dark] .colab-df-convert {\n",
              "      background-color: #3B4455;\n",
              "      fill: #D2E3FC;\n",
              "    }\n",
              "\n",
              "    [theme=dark] .colab-df-convert:hover {\n",
              "      background-color: #434B5C;\n",
              "      box-shadow: 0px 1px 3px 1px rgba(0, 0, 0, 0.15);\n",
              "      filter: drop-shadow(0px 1px 2px rgba(0, 0, 0, 0.3));\n",
              "      fill: #FFFFFF;\n",
              "    }\n",
              "  </style>\n",
              "\n",
              "      <script>\n",
              "        const buttonEl =\n",
              "          document.querySelector('#df-2f9fa773-9de4-43a5-8f09-0a3bae23964e button.colab-df-convert');\n",
              "        buttonEl.style.display =\n",
              "          google.colab.kernel.accessAllowed ? 'block' : 'none';\n",
              "\n",
              "        async function convertToInteractive(key) {\n",
              "          const element = document.querySelector('#df-2f9fa773-9de4-43a5-8f09-0a3bae23964e');\n",
              "          const dataTable =\n",
              "            await google.colab.kernel.invokeFunction('convertToInteractive',\n",
              "                                                     [key], {});\n",
              "          if (!dataTable) return;\n",
              "\n",
              "          const docLinkHtml = 'Like what you see? Visit the ' +\n",
              "            '<a target=\"_blank\" href=https://colab.research.google.com/notebooks/data_table.ipynb>data table notebook</a>'\n",
              "            + ' to learn more about interactive tables.';\n",
              "          element.innerHTML = '';\n",
              "          dataTable['output_type'] = 'display_data';\n",
              "          await google.colab.output.renderOutput(dataTable, element);\n",
              "          const docLink = document.createElement('div');\n",
              "          docLink.innerHTML = docLinkHtml;\n",
              "          element.appendChild(docLink);\n",
              "        }\n",
              "      </script>\n",
              "    </div>\n",
              "  </div>\n",
              "  "
            ]
          },
          "metadata": {},
          "execution_count": 25
        }
      ],
      "source": [
        "# phone_model 피처에서 저장 용량(phone_model_storage) 피처를 추출\n",
        "df['phone_model_storage'] = df['phone_model'].apply(lambda x: x.split(\" \")[-1])\n",
        "\n",
        "# phone_model 피처에서 기종 세부명(phone_model_detail) 피처를 추출\n",
        "df['phone_model_detail'] = df['phone_model'].apply(lambda x: ' '.join(x.split(\" \")[:-1]))\n",
        "df[['phone_model_storage', 'phone_model_detail']].head()"
      ]
    },
    {
      "cell_type": "code",
      "execution_count": 26,
      "metadata": {
        "colab": {
          "base_uri": "https://localhost:8080/",
          "height": 580
        },
        "id": "rSi34LMdK-FJ",
        "outputId": "6e337861-d120-43e2-9fb5-2141eb8cc8b2"
      },
      "outputs": [
        {
          "output_type": "stream",
          "name": "stderr",
          "text": [
            "/usr/local/lib/python3.7/dist-packages/matplotlib/cbook/__init__.py:1376: VisibleDeprecationWarning: Creating an ndarray from ragged nested sequences (which is a list-or-tuple of lists-or-tuples-or ndarrays with different lengths or shapes) is deprecated. If you meant to do this, you must specify 'dtype=object' when creating the ndarray.\n",
            "  X = np.atleast_1d(X.T if isinstance(X, np.ndarray) else np.asarray(X))\n"
          ]
        },
        {
          "output_type": "execute_result",
          "data": {
            "text/plain": [
              "{'boxes': [<matplotlib.lines.Line2D at 0x7f5a18a6dfd0>,\n",
              "  <matplotlib.lines.Line2D at 0x7f5a18a03650>],\n",
              " 'caps': [<matplotlib.lines.Line2D at 0x7f5a189f9090>,\n",
              "  <matplotlib.lines.Line2D at 0x7f5a189f95d0>,\n",
              "  <matplotlib.lines.Line2D at 0x7f5a18a0b610>,\n",
              "  <matplotlib.lines.Line2D at 0x7f5a18a0bb50>],\n",
              " 'fliers': [<matplotlib.lines.Line2D at 0x7f5a18a03090>,\n",
              "  <matplotlib.lines.Line2D at 0x7f5a18a125d0>],\n",
              " 'means': [],\n",
              " 'medians': [<matplotlib.lines.Line2D at 0x7f5a189f9b50>,\n",
              "  <matplotlib.lines.Line2D at 0x7f5a18a120d0>],\n",
              " 'whiskers': [<matplotlib.lines.Line2D at 0x7f5a18a735d0>,\n",
              "  <matplotlib.lines.Line2D at 0x7f5a18a73b10>,\n",
              "  <matplotlib.lines.Line2D at 0x7f5a18a03b90>,\n",
              "  <matplotlib.lines.Line2D at 0x7f5a18a0b0d0>]}"
            ]
          },
          "metadata": {},
          "execution_count": 26
        },
        {
          "output_type": "display_data",
          "data": {
            "text/plain": [
              "<Figure size 432x288 with 1 Axes>"
            ],
            "image/png": "[encoded data removed]"
          },
          "metadata": {
            "needs_background": "light"
          }
        }
      ],
      "source": [
        "# phone_model 피처의 기종별 거래 데이터 개수를 집계\n",
        "model_counts = df['phone_model'].value_counts()\n",
        "\n",
        "# phone_model_detail 피처의 기종별 거래 데이터 개수를 집계\n",
        "model_detail_counts = df['phone_model_detail'].value_counts()\n",
        "data = [model_counts, model_detail_counts]\n",
        "\n",
        "# 두 피처간의 기종별 거래 데이터 개수를 비교\n",
        "mpl_fig = plt.figure()\n",
        "ax = mpl_fig.add_subplot(111)\n",
        "ax.boxplot(data)"
      ]
    },
    {
      "cell_type": "code",
      "execution_count": 27,
      "metadata": {
        "colab": {
          "base_uri": "https://localhost:8080/"
        },
        "id": "IhH3LUYNLAsf",
        "outputId": "0c4e4f4d-1f84-4e22-9695-47d7b8d26b16"
      },
      "outputs": [
        {
          "output_type": "stream",
          "name": "stdout",
          "text": [
            "{('iphone 6', '64gb'): 924000, ('galaxy  ...\n"
          ]
        }
      ],
      "source": [
        "# 기종명 + 용량으로 출고가를 찾기 위한 딕셔너리를 생성\n",
        "model_to_factory_price_dict = {}\n",
        "for index, row in df.iterrows():\n",
        "    model_concat = (row['phone_model_detail'], row['phone_model_storage'])\n",
        "    if model_concat in model_to_factory_price_dict:\n",
        "        pass\n",
        "    else:\n",
        "        model_to_factory_price_dict[model_concat] = row['factory_price']\n",
        "print(str(model_to_factory_price_dict)[:40], \"...\")"
      ]
    },
    {
      "cell_type": "code",
      "execution_count": 28,
      "metadata": {
        "colab": {
          "base_uri": "https://localhost:8080/",
          "height": 300
        },
        "id": "GhRaqXnwLFmN",
        "outputId": "c0bc4b65-1058-4608-a19c-34cf0f5a94d6"
      },
      "outputs": [
        {
          "output_type": "stream",
          "name": "stdout",
          "text": [
            "-1.3966616903783375\n",
            "1.666982156397844\n"
          ]
        },
        {
          "output_type": "display_data",
          "data": {
            "text/plain": [
              "<Figure size 432x288 with 1 Axes>"
            ],
            "image/png": "[encoded data removed]"
          },
          "metadata": {
            "needs_background": "light"
          }
        }
      ],
      "source": [
        "# 거래 가격(price)의 z-score를 계산합니다. 이는 해당 데이터의 가격이 기종의 평균에 비해 어느정도로 높거나 낮은지를 알 수 있게 하는 점수\n",
        "df['price_by_group'] = df.groupby('phone_model_detail')['price'].transform(lambda x: (x - x.mean()) / x.std())\n",
        "\n",
        "# 거래 가격의 z-score(price_by_group)의 분포를 그래프로 출력합니다\n",
        "ax = df['price_by_group'].hist(bins=\"auto\")\n",
        "\n",
        "# z-score(price_by_group) 기준으로 하위 5%, 상위 5%에 해당하는 점수를 lower_bound, upper_bound 라고 지정\n",
        "lower_bound = df['price_by_group'].quantile(0.05)\n",
        "upper_bound = df['price_by_group'].quantile(0.95)\n",
        "\n",
        "# lower_bound, upper_bound 그래프에 추가\n",
        "ax.axvline(x=lower_bound, color='r', linestyle='dashed', linewidth=2)\n",
        "ax.axvline(x=upper_bound, color='r', linestyle='dashed', linewidth=2)\n",
        "\n",
        "# lower_bound를, upper_bound 출력\n",
        "print(lower_bound)\n",
        "print(upper_bound)"
      ]
    },
    {
      "cell_type": "code",
      "execution_count": 29,
      "metadata": {
        "colab": {
          "base_uri": "https://localhost:8080/",
          "height": 406
        },
        "id": "1OuqQp25LKV9",
        "outputId": "9addfe9e-00e9-4fbb-9f34-2a38211983d2"
      },
      "outputs": [
        {
          "output_type": "execute_result",
          "data": {
            "text/plain": [
              "      price  price_lower  price_upper price_level  \\\n",
              "0  550000.0     180000.0     680000.0           1   \n",
              "1  380000.0     180000.0     414000.0           1   \n",
              "2  300000.0     150000.0     349000.0           1   \n",
              "3  290000.0     100000.0     500000.0           1   \n",
              "4  280000.0      18000.0     400000.0           1   \n",
              "\n",
              "                                                text  \n",
              "0  아이폰6플러스 블랙+애플라이트 64기가 팝니다  아이폰6플러스 블랙+애플라이트 64...  \n",
              "1  갤럭시s6엣지 32기가 팝니다 직거래  갤럭시s6엣지 32기가 품명 갤럭시s6엣지제...  \n",
              "2  갤럭시s6 풀박스로 팝니다~~~ 새상품급  실기스조차 없어요  직접거래 구매한지 1...  \n",
              "3  sk  g5 티탄 폰 단품판매합니다  직접거래 sk g5 티탄 폰 단품판매합니다 올...  \n",
              "4   sony 엑스페리아 c5 ultra e5506 16gb  미사용 새제품 팝니다 1...  "
            ],
            "text/html": [
              "\n",
              "  <div id=\"df-1ecf014c-1836-4845-8c07-93df6725fa2e\">\n",
              "    <div class=\"colab-df-container\">\n",
              "      <div>\n",
              "<style scoped>\n",
              "    .dataframe tbody tr th:only-of-type {\n",
              "        vertical-align: middle;\n",
              "    }\n",
              "\n",
              "    .dataframe tbody tr th {\n",
              "        vertical-align: top;\n",
              "    }\n",
              "\n",
              "    .dataframe thead th {\n",
              "        text-align: right;\n",
              "    }\n",
              "</style>\n",
              "<table border=\"1\" class=\"dataframe\">\n",
              "  <thead>\n",
              "    <tr style=\"text-align: right;\">\n",
              "      <th></th>\n",
              "      <th>price</th>\n",
              "      <th>price_lower</th>\n",
              "      <th>price_upper</th>\n",
              "      <th>price_level</th>\n",
              "      <th>text</th>\n",
              "    </tr>\n",
              "  </thead>\n",
              "  <tbody>\n",
              "    <tr>\n",
              "      <th>0</th>\n",
              "      <td>550000.0</td>\n",
              "      <td>180000.0</td>\n",
              "      <td>680000.0</td>\n",
              "      <td>1</td>\n",
              "      <td>아이폰6플러스 블랙+애플라이트 64기가 팝니다  아이폰6플러스 블랙+애플라이트 64...</td>\n",
              "    </tr>\n",
              "    <tr>\n",
              "      <th>1</th>\n",
              "      <td>380000.0</td>\n",
              "      <td>180000.0</td>\n",
              "      <td>414000.0</td>\n",
              "      <td>1</td>\n",
              "      <td>갤럭시s6엣지 32기가 팝니다 직거래  갤럭시s6엣지 32기가 품명 갤럭시s6엣지제...</td>\n",
              "    </tr>\n",
              "    <tr>\n",
              "      <th>2</th>\n",
              "      <td>300000.0</td>\n",
              "      <td>150000.0</td>\n",
              "      <td>349000.0</td>\n",
              "      <td>1</td>\n",
              "      <td>갤럭시s6 풀박스로 팝니다~~~ 새상품급  실기스조차 없어요  직접거래 구매한지 1...</td>\n",
              "    </tr>\n",
              "    <tr>\n",
              "      <th>3</th>\n",
              "      <td>290000.0</td>\n",
              "      <td>100000.0</td>\n",
              "      <td>500000.0</td>\n",
              "      <td>1</td>\n",
              "      <td>sk  g5 티탄 폰 단품판매합니다  직접거래 sk g5 티탄 폰 단품판매합니다 올...</td>\n",
              "    </tr>\n",
              "    <tr>\n",
              "      <th>4</th>\n",
              "      <td>280000.0</td>\n",
              "      <td>18000.0</td>\n",
              "      <td>400000.0</td>\n",
              "      <td>1</td>\n",
              "      <td>sony 엑스페리아 c5 ultra e5506 16gb  미사용 새제품 팝니다 1...</td>\n",
              "    </tr>\n",
              "  </tbody>\n",
              "</table>\n",
              "</div>\n",
              "      <button class=\"colab-df-convert\" onclick=\"convertToInteractive('df-1ecf014c-1836-4845-8c07-93df6725fa2e')\"\n",
              "              title=\"Convert this dataframe to an interactive table.\"\n",
              "              style=\"display:none;\">\n",
              "        \n",
              "  <svg xmlns=\"http://www.w3.org/2000/svg\" height=\"24px\"viewBox=\"0 0 24 24\"\n",
              "       width=\"24px\">\n",
              "    <path d=\"M0 0h24v24H0V0z\" fill=\"none\"/>\n",
              "    <path d=\"M18.56 5.44l.94 2.06.94-2.06 2.06-.94-2.06-.94-.94-2.06-.94 2.06-2.06.94zm-11 1L8.5 8.5l.94-2.06 2.06-.94-2.06-.94L8.5 2.5l-.94 2.06-2.06.94zm10 10l.94 2.06.94-2.06 2.06-.94-2.06-.94-.94-2.06-.94 2.06-2.06.94z\"/><path d=\"M17.41 7.96l-1.37-1.37c-.4-.4-.92-.59-1.43-.59-.52 0-1.04.2-1.43.59L10.3 9.45l-7.72 7.72c-.78.78-.78 2.05 0 2.83L4 21.41c.39.39.9.59 1.41.59.51 0 1.02-.2 1.41-.59l7.78-7.78 2.81-2.81c.8-.78.8-2.07 0-2.86zM5.41 20L4 18.59l7.72-7.72 1.47 1.35L5.41 20z\"/>\n",
              "  </svg>\n",
              "      </button>\n",
              "      \n",
              "  <style>\n",
              "    .colab-df-container {\n",
              "      display:flex;\n",
              "      flex-wrap:wrap;\n",
              "      gap: 12px;\n",
              "    }\n",
              "\n",
              "    .colab-df-convert {\n",
              "      background-color: #E8F0FE;\n",
              "      border: none;\n",
              "      border-radius: 50%;\n",
              "      cursor: pointer;\n",
              "      display: none;\n",
              "      fill: #1967D2;\n",
              "      height: 32px;\n",
              "      padding: 0 0 0 0;\n",
              "      width: 32px;\n",
              "    }\n",
              "\n",
              "    .colab-df-convert:hover {\n",
              "      background-color: #E2EBFA;\n",
              "      box-shadow: 0px 1px 2px rgba(60, 64, 67, 0.3), 0px 1px 3px 1px rgba(60, 64, 67, 0.15);\n",
              "      fill: #174EA6;\n",
              "    }\n",
              "\n",
              "    [theme=dark] .colab-df-convert {\n",
              "      background-color: #3B4455;\n",
              "      fill: #D2E3FC;\n",
              "    }\n",
              "\n",
              "    [theme=dark] .colab-df-convert:hover {\n",
              "      background-color: #434B5C;\n",
              "      box-shadow: 0px 1px 3px 1px rgba(0, 0, 0, 0.15);\n",
              "      filter: drop-shadow(0px 1px 2px rgba(0, 0, 0, 0.3));\n",
              "      fill: #FFFFFF;\n",
              "    }\n",
              "  </style>\n",
              "\n",
              "      <script>\n",
              "        const buttonEl =\n",
              "          document.querySelector('#df-1ecf014c-1836-4845-8c07-93df6725fa2e button.colab-df-convert');\n",
              "        buttonEl.style.display =\n",
              "          google.colab.kernel.accessAllowed ? 'block' : 'none';\n",
              "\n",
              "        async function convertToInteractive(key) {\n",
              "          const element = document.querySelector('#df-1ecf014c-1836-4845-8c07-93df6725fa2e');\n",
              "          const dataTable =\n",
              "            await google.colab.kernel.invokeFunction('convertToInteractive',\n",
              "                                                     [key], {});\n",
              "          if (!dataTable) return;\n",
              "\n",
              "          const docLinkHtml = 'Like what you see? Visit the ' +\n",
              "            '<a target=\"_blank\" href=https://colab.research.google.com/notebooks/data_table.ipynb>data table notebook</a>'\n",
              "            + ' to learn more about interactive tables.';\n",
              "          element.innerHTML = '';\n",
              "          dataTable['output_type'] = 'display_data';\n",
              "          await google.colab.output.renderOutput(dataTable, element);\n",
              "          const docLink = document.createElement('div');\n",
              "          docLink.innerHTML = docLinkHtml;\n",
              "          element.appendChild(docLink);\n",
              "        }\n",
              "      </script>\n",
              "    </div>\n",
              "  </div>\n",
              "  "
            ]
          },
          "metadata": {},
          "execution_count": 29
        }
      ],
      "source": [
        "# lower_bound보다 낮으면 0, upper_bound보다 높으면 2, 그 중간이면 1로 가격의 상태를 분류하는 함수를 정의\n",
        "def get_price_level(price, lower, upper):\n",
        "    if price <= lower:\n",
        "        return \"0\"\n",
        "    elif price >= upper:\n",
        "        return \"2\"\n",
        "    else:\n",
        "        return \"1\"\n",
        "\n",
        "# lower_bound보다 낮으면 0, upper_bound보다 높으면 2, 그 중간이면 1로 가격의 상태를 분류\n",
        "df['price_lower'] = df.groupby('phone_model_detail')['price'].transform(lambda x: x.quantile(0.05))\n",
        "df['price_upper'] = df.groupby('phone_model_detail')['price'].transform(lambda x: x.quantile(0.95))\n",
        "df['price_level'] = df.apply(lambda row: get_price_level(row['price'], row['price_lower'], \n",
        "                                                         row['price_upper']), axis=1)\n",
        "df[['price', 'price_lower', 'price_upper', 'price_level', 'text']].head()"
      ]
    },
    {
      "cell_type": "code",
      "execution_count": 30,
      "metadata": {
        "colab": {
          "base_uri": "https://localhost:8080/"
        },
        "id": "KY6bO1M_LMMp",
        "outputId": "25f6b28b-8c95-4750-cfb4-f673135c319c"
      },
      "outputs": [
        {
          "output_type": "stream",
          "name": "stdout",
          "text": [
            "['거래', '입니', '판매', '아이폰', '갤럭시', '골드', '팝', '만원', '폰', '시', '주세', '노트', '문자', '화이트', '연락', '블랙', '구매', '및', '기재', '년', '품', '월', '용', '로즈', '상세', '항목', '완료', '지역', '개', '실버', '신청하기', '색상', '타', '기기', '서울', '후', '문의', '원', '설명', '판', '전화', '엣지', '모두', '경우', '보시', '위', '정확히', '정도', '될', '등', '휴대폰', '되', '일', '플러스', 'g', 'lg', 'skt', 'gb', 'kt', 'sk', 'se', 'lgu', 'u', 'lte', 'fl', 'ltea', 'nl', 'k', 'z', 'v', 'lgt', 'gs', 'gl', 'ss', 'cat', 'nk', 'b', 'com', 'gpro', 'ea', 'ns', 'ios', 'gt', 'or', 'usb', 'amp', 'umi', 'lgfl', 'es', 'howufeel', 'gk', 'ek', 'xperia', 'y', 'wpi', 'mtk', 'd', 'www', 'sss', 'fs', 'el', 'lglp', 'white', 'http', 'o', 'l', 'zv', 'e', 'al', 'gn', 'ps', 'naver', 'rome', 'gx', 'lglb', 'ssanmai', 'f', '계', '명', '들', '적', '자', '상', '화', '대', '중', '장', '간', '네', '분', '권', '이', '백', '째', '형', '분들', '번째', '씩', '쯤', '식', '조', '성', '꺼', '님', '당', '인', '틱', '짱', '샵', '군', '천', '아', '플', '흡', '휴', '엑', ',', ',,', '+,', '++++++++++++++++++++++++++++++++++++++', ',,,,,,', '그리고', '하지만', '그러므로', '것', '겠', '다', '주', '거', '니', '전', '는', '을', '놨', '하', '놓', '셔', '우', '던고', '내', '가', '겟', '었', '데', '테', '았', '혀', '싶', '실', '야', '앗', '져', '오', '울나', '지', '면', '으', '어', '졌', '진', '히', '께', '세', '치', '말', '답', '놓고', '줄', '십', '잖야만', '퍼', '鄭', '植', '有', '無', 'ˇ', '正尹', 'ㅠㅠ', 'ㅎ', 'ㅎㅎ', 'ㅎㅎㅎ', 'ㅇ', 'ㅠ', 'ㅡ', 'ㅜㅜ', 'ㅍㅍ', 'ㅅ', 'ㅣ', 'ㅏㄷ', 'ㅋ', 'ㅂ', 'ㅎㅇ', '', 'ㅠㅠㅡㅠ', 'ㅎㅎㅎㅎ', 'ㅌ', 'ㄲ', 'ㅋㅋ', 'ㅠㅜ', 'ㅇㅏ', 'ㅡㅡㅡㅡㅡㅡㅡㅡㅡㅡㅡㅡㅡㅡㅡㅡㅡㅡㅡㅡㅡㅡㅡㅡㅡㅡㅡㅡㅡㅡㅡㅡㅡㅡㅡ', 'ㄱ', 'ㅠㅠㅠㅠ', 'ㄱㄱ', 'ㅈ', 'ㅜ', 'ㅜㅜㅇ', 'ㅏ', 'ㅍㅇㅂ', 'ㄴ', 'ㅁ', 'ㅇㅇㅇ', 'ㅕ', 'ㅇㅇ', 'ㅠㅠㅠ', 'ㄷ', '니다', '습니다', '요', '서', '고', '음', '구요', '나', '기', '디', '도', '며', '만', '는데', '지만', '게', '던', '아요', '으며', '은', '구', '네요', '세요', '어요', '라', '께요', '으나', '에', '니까', '다시피', '도록', '으면', '건', '거나', '으니', '고요', '여', '듯', '게요', '다가', '리', '에요', '까', '므로', '면서', '과', '래', '러', '다고', '로', '록', '기에', '려고', '듯이', '는바', '엔', '는대로', '이며', '는데도', '는데는', '긴', '하고', '만큼', '더라구요', '다는', '지는', '사', '래도', '아서', '길', '다면', '죠', '단', '신', '다만', '자마자', '어서', '습니다만', '매', '곤', '는걸', '거니', '건데', '으로', '에서', '의', '까지', '를', '한', '와', '해서', '이고', '이라', '에는', '해', '에서만', '랑', '보다', '이니', '든', '인데', '부터', '처럼', '이지만', '이라고', '에서는', '까지는', '이랑', '만에', '라고', '이라서', '든지', '말고', '난', '으로는', '조차', '대로', '라도', '했기에', '으로만', '하고는', '이여', '이에요', '까지만', '이네', '과는', '라서', '보다는', '한테', '에도', '마저', '까지로', '이다', '에서도', '에만', '이라는', '했지만', '에다가', '라는', '말고는', '에선', '만큼의', '와는', '인지', '스럽게', '로다', '보단', '몇', '돌', '아랫', '올', '극', '그', '두', '저', '다섯', '또는', '많이', '하우', '이렇게', '엄청', '딱', '그래서', '함께', '어느', '혹은', '가급적', '훨씬', '그래도', '관계없이', '저렇게', '깍', '아무래도', '특히', '조금씩', '근데', '그렇게', '천천히', '앙', '꽉꽉', '언능', '걍', '이리저리', '마구마구', '수시로', '말끔', '팍팍', '꼼꼼', '이맘때', '빠릿빠릿', '찰칵', '똑같이', '아무리', '첨', '이미', '풍', '수없이', '그만', '하여간', '가만히', '바로바로', '죄다', '탱', '건들', '건정', '매해', '다행히', '안', '못', '질', '엇', '싸']\n"
          ]
        }
      ],
      "source": [
        "import pickle\n",
        "import re\n",
        "\n",
        "# 중고나라 불용어 사전을 불러옵니다.\n",
        "with open('/content/drive/MyDrive/used_retail/used_mobile_phone_stopwords.pkl', 'rb') as f:\n",
        "    stopwords = pickle.load(f)\n",
        "\n",
        "# 불용어 사전에 등록된 단어\n",
        "print(stopwords)"
      ]
    },
    {
      "cell_type": "code",
      "execution_count": 31,
      "metadata": {
        "colab": {
          "base_uri": "https://localhost:8080/"
        },
        "id": "AUw-sUiEdRMd",
        "outputId": "6ab197ae-c642-4786-b365-e2380500b5d4"
      },
      "outputs": [
        {
          "output_type": "stream",
          "name": "stdout",
          "text": [
            "Looking in indexes: https://pypi.org/simple, https://us-python.pkg.dev/colab-wheels/public/simple/\n",
            "Collecting konlpy\n",
            "  Downloading konlpy-0.6.0-py2.py3-none-any.whl (19.4 MB)\n",
            "\u001b[K     |████████████████████████████████| 19.4 MB 477 kB/s \n",
            "\u001b[?25hRequirement already satisfied: numpy>=1.6 in /usr/local/lib/python3.7/dist-packages (from konlpy) (1.21.6)\n",
            "Requirement already satisfied: lxml>=4.1.0 in /usr/local/lib/python3.7/dist-packages (from konlpy) (4.9.1)\n",
            "Collecting JPype1>=0.7.0\n",
            "  Downloading JPype1-1.4.0-cp37-cp37m-manylinux_2_5_x86_64.manylinux1_x86_64.whl (453 kB)\n",
            "\u001b[K     |████████████████████████████████| 453 kB 64.2 MB/s \n",
            "\u001b[?25hRequirement already satisfied: typing-extensions in /usr/local/lib/python3.7/dist-packages (from JPype1>=0.7.0->konlpy) (4.1.1)\n",
            "Installing collected packages: JPype1, konlpy\n",
            "Successfully installed JPype1-1.4.0 konlpy-0.6.0\n"
          ]
        }
      ],
      "source": [
        "!pip install konlpy # nlp 한국어 정보처리를 위해 사용하는 패키지를 설치\n",
        "# 코엔엘파이"
      ]
    },
    {
      "cell_type": "code",
      "execution_count": 32,
      "metadata": {
        "colab": {
          "base_uri": "https://localhost:8080/",
          "height": 70
        },
        "id": "ZsnN0qUBtJjf",
        "outputId": "08c9babd-dc98-45a0-df38-5616d7a94bb9"
      },
      "outputs": [
        {
          "output_type": "execute_result",
          "data": {
            "text/plain": [
              "\"\\nJVM_PATH = '/Library/Java/JavaVirtualMachines/jdk-17.0.4.jdk/Contents/Home/bin'\\n\\ndef main():\\n    okt = Okt(jvmpath=JVM_PATH)\\n\\nif __name__ == '__main__':\\n    main()\\n\""
            ],
            "application/vnd.google.colaboratory.intrinsic+json": {
              "type": "string"
            }
          },
          "metadata": {},
          "execution_count": 32
        }
      ],
      "source": [
        "# 저같은 경우 맥 M1 유저라면\n",
        "'''\n",
        "JVM_PATH = '/Library/Java/JavaVirtualMachines/jdk-17.0.4.jdk/Contents/Home/bin'\n",
        "\n",
        "def main():\n",
        "    okt = Okt(jvmpath=JVM_PATH)\n",
        "\n",
        "if __name__ == '__main__':\n",
        "    main()\n",
        "'''"
      ]
    },
    {
      "cell_type": "code",
      "execution_count": 33,
      "metadata": {
        "colab": {
          "base_uri": "https://localhost:8080/"
        },
        "id": "W9ZMhwoZdPAq",
        "outputId": "c2cc5c29-cf3d-42dc-958f-d2f817bb62b9"
      },
      "outputs": [
        {
          "output_type": "stream",
          "name": "stdout",
          "text": [
            "['+', '애플', '라이트', '팝니다', '+', '애플', '라이트', '팝니다', '+', '애플', '라이트', '팝니다', '리퍼', '기간', '만료', '되어서', '징', '하게', '되었습니다', '상태', '초', 'a', '급', '스', '없습니다', '+', '애플', '라이트', '팝니다', '+', '애플', '라이트', '팝니다', '리퍼', '기간', '만료', '되어서', '징', '하게', '되었습니다', '상태', '초', 'a', '급', '스', '없습니다', '징', '애플', '라이트', '홈', '버튼', '링', '카메라', '링', '볼륨', '버튼', '슬립', '버튼', '검금', '심플', '튀지', '않게', '이쁘게', '했구요', '유심', '꽂고', '바로', '사용', '하시면', '됩니다', '사람', '이냐', '자주', '물어보고', '실제', '더욱', '이쁩니다', '밤', '영롱하게', '맥북', '뒷', '사과', '로고', '비춰지고', '요전', '넘어가기', '위해', '합니다', '가능합니다', '박스', '어머니', '버리시고', '이어폰', '충전기', '정품', '드립니다', '직거래', '우선', '순', '위로', '정', '싶으시면', '선', '입금', '택배', '발송', '해드리겠습니다', '믿으시면', '직거래', '하시길', '추천', '해요', '안전', '합니다', '서울시', '강남구', '역삼동', '차병원', '사거리', '근처', '가격']\n"
          ]
        }
      ],
      "source": [
        "from konlpy.tag import Okt\n",
        "\n",
        "# ‘+’를 제외한 특수문자를 제거하고, 숫자형태의 문자를 제거\n",
        "def text_cleaning(text):\n",
        "    text = ''.join(c for c in text if c.isalnum() or c in '+, ')\n",
        "    text = ''.join([i for i in text if not i.isdigit()])\n",
        "    return text\n",
        "\n",
        "# 불용어에 등장하지 않는 형태소만을 추출하여 반환하는 함수\n",
        "def get_pos(x):\n",
        "    tagger = Okt()\n",
        "    poses = tagger.pos(x)\n",
        "    return [pos[0] for pos in poses if pos[0] not in stopwords]\n",
        "\n",
        "# 위 함수들을 적용한 형태소 추출을 테스트합니다.\n",
        "df['text'] = df['text'].apply(lambda x: text_cleaning(x))\n",
        "result = get_pos(df['text'][0])\n",
        "print(result)"
      ]
    },
    {
      "cell_type": "code",
      "execution_count": 34,
      "metadata": {
        "colab": {
          "base_uri": "https://localhost:8080/"
        },
        "id": "IjCNQv82fDbr",
        "outputId": "1bd119ff-24c4-4a44-bd7c-835efceeba6c"
      },
      "outputs": [
        {
          "output_type": "execute_result",
          "data": {
            "text/plain": [
              "['입니다',\n",
              " '직거래',\n",
              " 's',\n",
              " '합니다',\n",
              " '택배',\n",
              " '사용',\n",
              " '급',\n",
              " '상태',\n",
              " '팝니다',\n",
              " '가능합니다',\n",
              " '정상',\n",
              " '사진',\n",
              " '가격',\n",
              " '+',\n",
              " '케이스',\n",
              " 'a',\n",
              " '주세요',\n",
              " '해지',\n",
              " '삭제',\n",
              " '제품',\n",
              " '있습니다',\n",
              " '박스',\n",
              " '가능',\n",
              " '직접',\n",
              " '액정',\n",
              " '배터리',\n",
              " '성품',\n",
              " '필름',\n",
              " '리퍼',\n",
              " '충전기',\n",
              " '없습니다',\n",
              " '풀',\n",
              " '개통',\n",
              " '유심',\n",
              " '즈',\n",
              " '안전',\n",
              " '스',\n",
              " '하기',\n",
              " '신청',\n",
              " '드립니다',\n",
              " '통신사',\n",
              " '구입',\n",
              " '약정',\n",
              " '이어폰',\n",
              " '공기',\n",
              " '새',\n",
              " '기변',\n",
              " '포함',\n",
              " '모델',\n",
              " '선택',\n",
              " '됩니다',\n",
              " '확인',\n",
              " '기간',\n",
              " '기스',\n",
              " '그레이',\n",
              " '찍힘',\n",
              " '방법',\n",
              " '바로',\n",
              " '할인',\n",
              " '제',\n",
              " '시기',\n",
              " '스페이스',\n",
              " '희망',\n",
              " '번호',\n",
              " '중고나라',\n",
              " '본체',\n",
              " '같이',\n",
              " '생활',\n",
              " '잘',\n",
              " '무',\n",
              " '퀵',\n",
              " '글',\n",
              " '된',\n",
              " '않을',\n",
              " '공식',\n",
              " '앱',\n",
              " '확정',\n",
              " '기능',\n",
              " '다운',\n",
              " '양',\n",
              " '호환',\n",
              " '케이블',\n",
              " '받기',\n",
              " '미',\n",
              " '이메일',\n",
              " '작성',\n",
              " '부분',\n",
              " '금지',\n",
              " '될수',\n",
              " '식아이디',\n",
              " '허위',\n",
              " '임의',\n",
              " '통보',\n",
              " '채우지',\n",
              " '핸드폰',\n",
              " '편한',\n",
              " '전혀',\n",
              " '충전',\n",
              " '내용',\n",
              " '연락처',\n",
              " '단말기',\n",
              " '부산',\n",
              " '대구',\n",
              " '미사',\n",
              " '정품',\n",
              " '중고',\n",
              " '문제',\n",
              " '없이',\n",
              " '이상',\n",
              " '보호',\n",
              " '방문',\n",
              " '없는',\n",
              " '외관',\n",
              " '외',\n",
              " '인천',\n",
              " '깨끗합니다',\n",
              " 'x',\n",
              " '초기',\n",
              " '하나',\n",
              " '참고',\n",
              " '이구',\n",
              " '요금',\n",
              " '개월',\n",
              " '이나',\n",
              " '사이트',\n",
              " '팔아요',\n",
              " '하시면',\n",
              " '했습니다',\n",
              " '동',\n",
              " '카페',\n",
              " '보내',\n",
              " '카톡',\n",
              " '블로그',\n",
              " '링크',\n",
              " '싸이',\n",
              " '강퇴',\n",
              " '삼성',\n",
              " '거치',\n",
              " '있는',\n",
              " '호선',\n",
              " '모든',\n",
              " '입금',\n",
              " '처리',\n",
              " '없음',\n",
              " '뒷',\n",
              " '핑크',\n",
              " '카메라',\n",
              " '거주지',\n",
              " '공',\n",
              " '하여',\n",
              " '역도',\n",
              " '재판매',\n",
              " '유도',\n",
              " '선',\n",
              " '교체',\n",
              " '강화유리',\n",
              " '경매',\n",
              " '만만',\n",
              " '부탁드립니다',\n",
              " '구성',\n",
              " '필수',\n",
              " '차대',\n",
              " '재시',\n",
              " '없고',\n",
              " '전체',\n",
              " '파손',\n",
              " '다른',\n",
              " '가능하며',\n",
              " '작동',\n",
              " '가능한',\n",
              " '교환',\n",
              " '드리겠습니다',\n",
              " '좋습니다',\n",
              " '기계',\n",
              " '생각',\n",
              " '그대로',\n",
              " '추가',\n",
              " '약간',\n",
              " '살짝',\n",
              " '바랍니다',\n",
              " '테두리',\n",
              " '풀박',\n",
              " '미개',\n",
              " '거의',\n",
              " '부담',\n",
              " '쪽',\n",
              " '조금',\n",
              " '비',\n",
              " '주시',\n",
              " 'as',\n",
              " '하지',\n",
              " '싸게',\n",
              " '때',\n",
              " '하겠습니다',\n",
              " '봉',\n",
              " '완전',\n",
              " '상품',\n",
              " '댓글',\n",
              " '착불',\n",
              " '부착',\n",
              " '때문',\n",
              " '금액',\n",
              " '아주',\n",
              " '폴더',\n",
              " '원하시면',\n",
              " '와인',\n",
              " '할',\n",
              " '하며',\n",
              " '수',\n",
              " '하단',\n",
              " '현재',\n",
              " '거주',\n",
              " '한번',\n",
              " '버튼',\n",
              " '더',\n",
              " '가능하고',\n",
              " '정말',\n",
              " '있고',\n",
              " '엘지',\n",
              " '커버',\n",
              " '블루',\n",
              " '번',\n",
              " '원합니다',\n",
              " '기본',\n",
              " '해주세요',\n",
              " '터치',\n",
              " '그냥',\n",
              " '하는',\n",
              " '용감',\n",
              " '시간',\n",
              " '전부',\n",
              " '대전',\n",
              " '되어',\n",
              " '통화',\n",
              " '센터',\n",
              " '있구요',\n",
              " '쿨',\n",
              " '깨끗한',\n",
              " '앞',\n",
              " '새거',\n",
              " '미국',\n",
              " '같습니다',\n",
              " '광주',\n",
              " '근처',\n",
              " '없구요',\n",
              " '하실',\n",
              " '착',\n",
              " '방식',\n",
              " '환불',\n",
              " '애플',\n",
              " '아래',\n",
              " '서비스',\n",
              " '젤리',\n",
              " '유리',\n",
              " '가능하구요',\n",
              " '선호',\n",
              " '않습니다',\n",
              " '수원',\n",
              " '모서리',\n",
              " '곳',\n",
              " '달',\n",
              " '하세요',\n",
              " '스마트폰',\n",
              " '화면',\n",
              " '경기도',\n",
              " '신품',\n",
              " '강화',\n",
              " '제트',\n",
              " '드려요',\n",
              " '특',\n",
              " '부품',\n",
              " '발송',\n",
              " '년월',\n",
              " '상단',\n",
              " '유플러스',\n",
              " '새것',\n",
              " '이후',\n",
              " '풀셋',\n",
              " '좋은',\n",
              " '사양',\n",
              " '홍',\n",
              " '역',\n",
              " '개봉',\n",
              " '테스트',\n",
              " '수리',\n",
              " '있어요',\n",
              " '아무',\n",
              " '투명',\n",
              " '잔기스',\n",
              " '흠집',\n",
              " '미노트',\n",
              " '분실',\n",
              " '천안',\n",
              " '받은',\n",
              " '나머지',\n",
              " '점',\n",
              " '하자',\n",
              " '하시고',\n",
              " '저렴하게',\n",
              " '않은',\n",
              " '신분',\n",
              " '유',\n",
              " '용량',\n",
              " '하시는',\n",
              " '전면',\n",
              " '언락폰',\n",
              " '양호',\n",
              " '금',\n",
              " '하였습니다',\n",
              " '보시다시피',\n",
              " '별도',\n",
              " '하구요',\n",
              " '방탄',\n",
              " '스그',\n",
              " '여분',\n",
              " '본',\n",
              " '하셔도',\n",
              " '무상',\n",
              " '따로',\n",
              " '세이프',\n",
              " '좀',\n",
              " '와이파이',\n",
              " '무선',\n",
              " '제외',\n",
              " '종',\n",
              " '되었습니다',\n",
              " '천원',\n",
              " '프로',\n",
              " '눌',\n",
              " '매트',\n",
              " '배송',\n",
              " '약',\n",
              " '절충',\n",
              " '했구요',\n",
              " '우선',\n",
              " '대리점',\n",
              " '인터넷',\n",
              " '없으며',\n",
              " '수수료',\n",
              " '다시',\n",
              " '초',\n",
              " '끼',\n",
              " '평일',\n",
              " '삽니다',\n",
              " '고장',\n",
              " '이번',\n",
              " '부근',\n",
              " '겁니다',\n",
              " '아님',\n",
              " '매장',\n",
              " '해드립니다',\n",
              " '보조',\n",
              " '하던',\n",
              " '인식',\n",
              " '불량',\n",
              " '포장',\n",
              " '부천',\n",
              " '걸',\n",
              " '군데',\n",
              " '베가',\n",
              " '언제',\n",
              " '월일',\n",
              " '첨부',\n",
              " '전주',\n",
              " '항상',\n",
              " '갤',\n",
              " '처분',\n",
              " '불가',\n",
              " '비는',\n",
              " '매우',\n",
              " '남음',\n",
              " '없어요',\n",
              " '참조',\n",
              " '국내',\n",
              " '언',\n",
              " '가입',\n",
              " '잔',\n",
              " '지문',\n",
              " '있어서',\n",
              " '장소',\n",
              " '절대',\n",
              " '밑',\n",
              " '해외',\n",
              " '되는',\n",
              " '용인',\n",
              " '적용',\n",
              " '오시',\n",
              " '옵티머스',\n",
              " '있으며',\n",
              " '유니크로',\n",
              " '무음',\n",
              " '실사',\n",
              " '분만',\n",
              " '좋아요',\n",
              " '팔',\n",
              " '안녕하세요',\n",
              " '하면서',\n",
              " '답변',\n",
              " '작은',\n",
              " '젠더',\n",
              " '가능해요',\n",
              " '아직',\n",
              " '당연히',\n",
              " '넥서스',\n",
              " '최초',\n",
              " '불입',\n",
              " '삼',\n",
              " '베터리',\n",
              " '드릴게요',\n",
              " '개인',\n",
              " '오른쪽',\n",
              " '아이디',\n",
              " '밧데리',\n",
              " '드릴께요',\n",
              " '스크래치',\n",
              " '보관',\n",
              " '관심',\n",
              " '있지만',\n",
              " '선불',\n",
              " '변경',\n",
              " '큰',\n",
              " '되고',\n",
              " '팩',\n",
              " '공장',\n",
              " '급처',\n",
              " '꼭',\n",
              " '예약',\n",
              " '혹시',\n",
              " '감사합니다',\n",
              " '출구',\n",
              " '이용',\n",
              " '되구요',\n",
              " '안심',\n",
              " '내장',\n",
              " '펜',\n",
              " '먼저',\n",
              " '했던',\n",
              " '버전',\n",
              " '아닙니다',\n",
              " '메인보드',\n",
              " '안산',\n",
              " '한지',\n",
              " '안됩니다',\n",
              " '주말',\n",
              " '사절',\n",
              " '스마트',\n",
              " '하면',\n",
              " '용이',\n",
              " '한국',\n",
              " '문',\n",
              " '최상',\n",
              " '오늘',\n",
              " '겔럭시',\n",
              " '맥스',\n",
              " '하게',\n",
              " '너무',\n",
              " '필요하시면',\n",
              " '자국',\n",
              " '일본',\n",
              " '물',\n",
              " '홈',\n",
              " '보기',\n",
              " '지금',\n",
              " '있음',\n",
              " 'nbsp',\n",
              " '최대한',\n",
              " '홍콩',\n",
              " '저녁',\n",
              " '답장',\n",
              " '보니',\n",
              " '가지',\n",
              " '있는데',\n",
              " '궁금하신',\n",
              " '쓰던',\n",
              " '보고',\n",
              " '왼쪽',\n",
              " '깨끗하고',\n",
              " '택포',\n",
              " '쪽지',\n",
              " '있으면',\n",
              " '작년',\n",
              " '기타',\n",
              " '반품',\n",
              " '뒤',\n",
              " '많은',\n",
              " '사항',\n",
              " '만료',\n",
              " '락',\n",
              " '문의사항',\n",
              " '아이언',\n",
              " '자세한',\n",
              " '상처',\n",
              " '그랜드',\n",
              " '범퍼',\n",
              " '붙여서',\n",
              " '진행',\n",
              " '청주',\n",
              " 'schw',\n",
              " '알파',\n",
              " '남아있습니다',\n",
              " '분당',\n",
              " '위해',\n",
              " '배송비',\n",
              " '망',\n",
              " '기준',\n",
              " '카드',\n",
              " '드리구요',\n",
              " '네오',\n",
              " '사실',\n",
              " '임',\n",
              " '보이는',\n",
              " '오후',\n",
              " '사파이어',\n",
              " '새로',\n",
              " '조건',\n",
              " '침수',\n",
              " '인근',\n",
              " '해요',\n",
              " '자세히',\n",
              " '처음',\n",
              " '강남',\n",
              " '환영',\n",
              " '이어팟',\n",
              " '물건',\n",
              " '원하시는',\n",
              " '등록',\n",
              " '이미지',\n",
              " '일산',\n",
              " '이동',\n",
              " '또한',\n",
              " '징',\n",
              " '비닐',\n",
              " '찍힘이',\n",
              " '완납',\n",
              " '무료',\n",
              " '단자',\n",
              " '이외',\n",
              " '연',\n",
              " '금제',\n",
              " '구성은',\n",
              " '찍힌',\n",
              " '의사',\n",
              " '중화역',\n",
              " '있으나',\n",
              " '하니',\n",
              " '부',\n",
              " '의정부',\n",
              " '있으니',\n",
              " '일반',\n",
              " '남았습니다',\n",
              " '칩',\n",
              " '톡',\n",
              " '엑스페리아',\n",
              " '후시',\n",
              " '받지',\n",
              " '붙여',\n",
              " '빠른',\n",
              " '락폰',\n",
              " '개호환',\n",
              " '현상',\n",
              " '대개',\n",
              " '얼마',\n",
              " '제거',\n",
              " '감안',\n",
              " '했는데',\n",
              " '하였고',\n",
              " '안전거래도',\n",
              " '팜',\n",
              " '하려고',\n",
              " '올립니다',\n",
              " '예정',\n",
              " '유지',\n",
              " '목포',\n",
              " '월희',\n",
              " '알뜰폰',\n",
              " '둘다',\n",
              " '성남',\n",
              " '악세사리',\n",
              " '공공',\n",
              " '물품',\n",
              " '크게',\n",
              " '울산',\n",
              " '안양',\n",
              " '심',\n",
              " '같은',\n",
              " '집',\n",
              " '어댑터',\n",
              " '않았습니다',\n",
              " 'iphone',\n",
              " '검수',\n",
              " '정중히',\n",
              " '레드',\n",
              " '전화기',\n",
              " '빼',\n",
              " '화웨이',\n",
              " '경기',\n",
              " '내년',\n",
              " '이력',\n",
              " '업무',\n",
              " '샤오미',\n",
              " '짐',\n",
              " '용기',\n",
              " '일단',\n",
              " '받고',\n",
              " '각',\n",
              " '있으시면',\n",
              " '광역시',\n",
              " '창원',\n",
              " '결과',\n",
              " '가죽',\n",
              " '설정',\n",
              " '하셔서',\n",
              " '어디',\n",
              " '이면',\n",
              " '지프로',\n",
              " '했고',\n",
              " '결제',\n",
              " '데이터',\n",
              " '전원',\n",
              " '미세한',\n",
              " 'aa',\n",
              " '가능하니',\n",
              " '있으',\n",
              " '써서',\n",
              " '받습니다',\n",
              " '기존',\n",
              " '등등',\n",
              " '없네요',\n",
              " '되도록',\n",
              " '무기',\n",
              " '실기',\n",
              " '자부',\n",
              " '아시겠지만',\n",
              " '세트',\n",
              " '반',\n",
              " '눈',\n",
              " '우측',\n",
              " '언락',\n",
              " '올해',\n",
              " '빨리',\n",
              " '제조',\n",
              " '++',\n",
              " '주변',\n",
              " '않으며',\n",
              " '봅니다',\n",
              " '지원',\n",
              " '함',\n",
              " '상관없이',\n",
              " '입니다구',\n",
              " '이유',\n",
              " '가서',\n",
              " '위주',\n",
              " '않고',\n",
              " '출시',\n",
              " '화이트골드',\n",
              " '오닉스',\n",
              " '티',\n",
              " '내부',\n",
              " '쓰실',\n",
              " '없어서',\n",
              " 'slte',\n",
              " '현금',\n",
              " '챙겨',\n",
              " '말씀',\n",
              " '보증',\n",
              " '에누리',\n",
              " 'sktg',\n",
              " '전용',\n",
              " '신용',\n",
              " '헬로모바일',\n",
              " '통일',\n",
              " '실제',\n",
              " '드리고',\n",
              " '깨끗하게',\n",
              " '스피커',\n",
              " '총',\n",
              " '흰색',\n",
              " '우체국택배',\n",
              " '보면',\n",
              " '통신',\n",
              " '스카이',\n",
              " '쓰시',\n",
              " '밖에',\n",
              " '원래',\n",
              " '정보',\n",
              " '물론',\n",
              " '날',\n",
              " '마지막',\n",
              " '되어있습니다',\n",
              " '받았습니다',\n",
              " '애플스토어',\n",
              " '믿고',\n",
              " '흔적',\n",
              " '되면',\n",
              " '통',\n",
              " '드림',\n",
              " '실리콘',\n",
              " '선물',\n",
              " '위치',\n",
              " '조정',\n",
              " '회사',\n",
              " 'plus',\n",
              " '근무',\n",
              " '바',\n",
              " '내놓습니다',\n",
              " '상해',\n",
              " '붙이',\n",
              " '있어',\n",
              " '지장',\n",
              " '되지',\n",
              " '셋',\n",
              " '부평',\n",
              " '편입',\n",
              " '김포',\n",
              " '의무',\n",
              " '안전하게',\n",
              " '일이',\n",
              " '시크릿',\n",
              " '칠',\n",
              " '거리',\n",
              " '인치',\n",
              " '역시',\n",
              " '흥정',\n",
              " '찔러',\n",
              " '빼고',\n",
              " '순천',\n",
              " 'c',\n",
              " '비밀번호',\n",
              " '잠금',\n",
              " 'sphw',\n",
              " '부탁',\n",
              " 'cj',\n",
              " '직',\n",
              " '되며',\n",
              " '성능',\n",
              " '최상급',\n",
              " 'aaa',\n",
              " '사서',\n",
              " '해지한',\n",
              " '램',\n",
              " '잠실',\n",
              " '스크레치',\n",
              " '걱정',\n",
              " '늦어요',\n",
              " '법적',\n",
              " '찍힘은',\n",
              " '순',\n",
              " '불로',\n",
              " '없지만',\n",
              " 'lgsu',\n",
              " '다녀서',\n",
              " '넣어',\n",
              " '쓰고',\n",
              " '카카오',\n",
              " '받아서',\n",
              " '일주일',\n",
              " '지하철',\n",
              " '직구',\n",
              " '무조건',\n",
              " '평택',\n",
              " '협의',\n",
              " '루나',\n",
              " '잔기',\n",
              " '좋구요',\n",
              " '끝',\n",
              " '죄송합니다',\n",
              " '법',\n",
              " '빠르게',\n",
              " '하다가',\n",
              " '찍어',\n",
              " '안나',\n",
              " '로만',\n",
              " '브라운',\n",
              " '육',\n",
              " '티타늄',\n",
              " '안전한',\n",
              " '책임집니다',\n",
              " '되서',\n",
              " 'note',\n",
              " '색',\n",
              " '티탄',\n",
              " '여기',\n",
              " '일체',\n",
              " '메모리',\n",
              " '측면',\n",
              " '옆',\n",
              " '드릴수',\n",
              " '오셔서',\n",
              " '외부',\n",
              " 'gold',\n",
              " '빼고는',\n",
              " '우체국',\n",
              " '깨짐',\n",
              " '고객',\n",
              " '좋음',\n",
              " '특성',\n",
              " '기단',\n",
              " 'lt',\n",
              " 'dmb',\n",
              " 'lglu',\n",
              " '좋겠습니다',\n",
              " '계속',\n",
              " '위쪽',\n",
              " '알',\n",
              " '하는데',\n",
              " '깨끗이',\n",
              " '하루',\n",
              " '드릴',\n",
              " '롬',\n",
              " '애지중지',\n",
              " '정',\n",
              " '서울시',\n",
              " '편이',\n",
              " '관계',\n",
              " '신규',\n",
              " '년도',\n",
              " '하였으며',\n",
              " '업',\n",
              " '어플',\n",
              " '지난',\n",
              " '쓴',\n",
              " '방수',\n",
              " '조회',\n",
              " '관',\n",
              " '하셔야',\n",
              " '시오',\n",
              " '슈피겐',\n",
              " '앞뒤',\n",
              " '추천',\n",
              " 'lgsh',\n",
              " '서구',\n",
              " '상관없습니다',\n",
              " '가능하십니다',\n",
              " 'm',\n",
              " '울',\n",
              " '별로',\n",
              " '이상무',\n",
              " '고속',\n",
              " '마시고',\n",
              " '등급',\n",
              " '저촉',\n",
              " '이기',\n",
              " '됐습니다',\n",
              " 'smnk',\n",
              " '끝났습니다',\n",
              " '취급',\n",
              " '요청',\n",
              " '동봉',\n",
              " '팬택',\n",
              " '수준',\n",
              " '맨',\n",
              " '깨끗함',\n",
              " '세용',\n",
              " '동대문구',\n",
              " '깨진',\n",
              " '보입니다',\n",
              " '강동',\n",
              " '사설',\n",
              " '계양구',\n",
              " '업자',\n",
              " '퀄컴',\n",
              " '바꾸게',\n",
              " '본인',\n",
              " '키',\n",
              " '되있습니다',\n",
              " '이내',\n",
              " '진동',\n",
              " '같은거',\n",
              " '사은',\n",
              " '않아',\n",
              " '스티커',\n",
              " '깔끔한',\n",
              " '뽁뽁',\n",
              " '송파',\n",
              " '여부',\n",
              " '홍대',\n",
              " '롤리팝',\n",
              " '핀',\n",
              " 'im',\n",
              " '깨끗',\n",
              " '블루투스',\n",
              " '씌우고',\n",
              " '깔끔합니다',\n",
              " '라인',\n",
              " '했어요',\n",
              " '남아',\n",
              " '쓰셔도',\n",
              " '할부',\n",
              " '값',\n",
              " '라이트닝',\n",
              " '해드리겠습니다',\n",
              " '보이지',\n",
              " '남겨주세요',\n",
              " '하다',\n",
              " '샤베트',\n",
              " 'p',\n",
              " '검색',\n",
              " '끼워서',\n",
              " '인하',\n",
              " '남은',\n",
              " '받을',\n",
              " '관련',\n",
              " '드리고요',\n",
              " '경산',\n",
              " '끼우면',\n",
              " '사기',\n",
              " '영',\n",
              " '광양',\n",
              " '퀵서비스',\n",
              " '사람',\n",
              " '넣어서',\n",
              " '아니니',\n",
              " '마세요',\n",
              " '상의',\n",
              " '짜리',\n",
              " '현',\n",
              " '낮',\n",
              " '깨끗해요',\n",
              " '여러',\n",
              " '잭',\n",
              " '흠',\n",
              " '됨',\n",
              " '끝난',\n",
              " '설치',\n",
              " '있는거',\n",
              " '가장',\n",
              " '진짜',\n",
              " '광대역',\n",
              " '없다고',\n",
              " '찍힘이나',\n",
              " '원하구요',\n",
              " 'ok',\n",
              " 'lgkh',\n",
              " '자급',\n",
              " '아이',\n",
              " '경남',\n",
              " '오전',\n",
              " '부탁드려요',\n",
              " '일괄',\n",
              " '가셔서',\n",
              " '올려',\n",
              " '하시기',\n",
              " '대신',\n",
              " '촬영',\n",
              " '전북',\n",
              " '바꾸면서',\n",
              " '저장',\n",
              " '한글',\n",
              " '시세',\n",
              " '상자',\n",
              " '여수',\n",
              " '칠이사이',\n",
              " '답터',\n",
              " '착용',\n",
              " '이전',\n",
              " '멀쩡합니다',\n",
              " '연결',\n",
              " '해보니',\n",
              " '최저',\n",
              " '당일',\n",
              " '편의점',\n",
              " 'shves',\n",
              " '써',\n",
              " '회',\n",
              " '알리',\n",
              " '드리며',\n",
              " '없고요',\n",
              " '파는',\n",
              " '있네요',\n",
              " '아예',\n",
              " '중랑구',\n",
              " '일자',\n",
              " '있고요',\n",
              " '월말',\n",
              " '쓰다가',\n",
              " '여서',\n",
              " '와같이',\n",
              " '받아',\n",
              " '소니',\n",
              " '스타일',\n",
              " '휘',\n",
              " '긁',\n",
              " '되었고',\n",
              " '요구',\n",
              " '가구',\n",
              " '뭐',\n",
              " '강동구',\n",
              " '실물',\n",
              " '넣고',\n",
              " '붙어있는',\n",
              " '되요',\n",
              " '가능하고요',\n",
              " '정식',\n",
              " '강남역',\n",
              " '눌러서',\n",
              " '점검',\n",
              " '일대',\n",
              " '보험',\n",
              " '밤',\n",
              " '둘',\n",
              " ...]"
            ]
          },
          "metadata": {},
          "execution_count": 34
        }
      ],
      "source": [
        "from collections import Counter\n",
        "\n",
        "# get_pos 함수를 모든 텍스트 데이터에 적용하여 형태소 말뭉치를 추출\n",
        "corpus = sum(df['text'].apply(lambda x: get_pos(x)).tolist(), [])\n",
        "\n",
        "# 추출된 형태소 말뭉치에서 가장 많이 등장한 형태소 2500개를 추출\n",
        "counter = Counter(corpus)\n",
        "common_words = [key for key, _ in counter.most_common(2500)]\n",
        "common_words"
      ]
    },
    {
      "cell_type": "code",
      "execution_count": 35,
      "metadata": {
        "colab": {
          "base_uri": "https://localhost:8080/"
        },
        "id": "AOoBQichgYnq",
        "outputId": "0a63f461-bbd6-4be8-fb4c-82142e837b1e"
      },
      "outputs": [
        {
          "output_type": "execute_result",
          "data": {
            "text/plain": [
              "1    4296\n",
              "0     334\n",
              "2     321\n",
              "Name: price_level, dtype: int64"
            ]
          },
          "metadata": {},
          "execution_count": 35
        }
      ],
      "source": [
        "df['price_level'].value_counts()"
      ]
    },
    {
      "cell_type": "code",
      "execution_count": 36,
      "metadata": {
        "colab": {
          "base_uri": "https://localhost:8080/"
        },
        "id": "uoU6LCbyghOq",
        "outputId": "5d0de74b-b1be-4f35-cfec-f1bc2479b202"
      },
      "outputs": [
        {
          "output_type": "stream",
          "name": "stdout",
          "text": [
            "(1284, 2476)\n",
            "(321, 2476)\n"
          ]
        }
      ],
      "source": [
        "from sklearn.feature_extraction.text import CountVectorizer\n",
        "from sklearn.feature_extraction.text import TfidfTransformer\n",
        "\n",
        "# 빈출 형태소를 제외한 모든 형태소를 제거하는 함수를 정의\n",
        "def get_common_pos(x):\n",
        "    tagger = Okt()\n",
        "    poses = tagger.pos(x)\n",
        "    return [pos[0] for pos in poses if pos[0] in common_words]\n",
        "\n",
        "# 1:3:1 비율로 랜덤 샘플링을 수행\n",
        "negative_random = df[df['price_level']=='0'].sample(321, random_state=30)\n",
        "neutral_random = df[df['price_level']=='1'].sample(321*3, random_state=30)\n",
        "positive_random = df[df['price_level']=='2'].sample(321, random_state=30)\n",
        "\n",
        "# 샘플링 완료된 데이터셋을 정의\n",
        "df_sample = negative_random.append(neutral_random).append(positive_random)\n",
        "\n",
        "# TF-IDF를 수행하여 피처를 변환\n",
        "index_vectorizer = CountVectorizer(tokenizer = lambda x: get_common_pos(x))\n",
        "X = index_vectorizer.fit_transform(df_sample['text'].tolist())\n",
        "tfidf_vectorizer = TfidfTransformer()\n",
        "X = tfidf_vectorizer.fit_transform(X)\n",
        "\n",
        "# 감성 분류를 위한 학습 데이터셋을 정의\n",
        "y = df_sample['price_level']\n",
        "x_train, x_test, y_train, y_test = train_test_split(X, y, test_size=0.20, random_state=30)\n",
        "print(x_train.shape)\n",
        "print(x_test.shape)"
      ]
    },
    {
      "cell_type": "code",
      "execution_count": 37,
      "metadata": {
        "colab": {
          "base_uri": "https://localhost:8080/"
        },
        "id": "qBC-h7Qigvh8",
        "outputId": "3dcbd9c6-0225-4fe3-d30d-b4f9d9811149"
      },
      "outputs": [
        {
          "output_type": "stream",
          "name": "stdout",
          "text": [
            "Accuracy: 0.77\n"
          ]
        }
      ],
      "source": [
        "from sklearn.metrics import accuracy_score\n",
        "from sklearn.svm import SVC\n",
        "\n",
        "# 비선형 SVM 분류 모델을 학습하고 평가\n",
        "svm = SVC(kernel='rbf', C=10.0, random_state=0, gamma=0.10)\n",
        "svm.fit(x_train, y_train)\n",
        "y_pred_ksvc = svm.predict(x_test)\n",
        "print('Accuracy: %.2f' % accuracy_score(y_test, y_pred_ksvc))"
      ]
    },
    {
      "cell_type": "code",
      "execution_count": 38,
      "metadata": {
        "colab": {
          "base_uri": "https://localhost:8080/",
          "height": 528
        },
        "id": "nWJSDgE1gyX3",
        "outputId": "45886ac9-eebd-4dc9-b874-d096585a3be5"
      },
      "outputs": [
        {
          "output_type": "stream",
          "name": "stderr",
          "text": [
            "/usr/local/lib/python3.7/dist-packages/sklearn/ensemble/_forest.py:400: FutureWarning: Criterion 'mse' was deprecated in v1.0 and will be removed in version 1.2. Use `criterion='squared_error'` which is equivalent.\n",
            "  FutureWarning,\n"
          ]
        },
        {
          "output_type": "stream",
          "name": "stdout",
          "text": [
            "MSE train: 4761239709.383, test: 11003109152.227\n",
            "R^2 train: 0.902, test: 0.748\n"
          ]
        },
        {
          "output_type": "execute_result",
          "data": {
            "text/plain": [
              "[('maker_apple', 0.253448270928264),\n",
              " ('factory_price', 0.2520082196196544),\n",
              " ('create_time_score', 0.11658669364922736),\n",
              " ('phone_model_storage_16gb', 0.06100036017491017),\n",
              " ('product_status_2', 0.04717603269041365),\n",
              " ('phone_model_detail_galaxy s7 edge', 0.029070455853046708),\n",
              " ('phone_model_storage_64gb', 0.026107305030763583),\n",
              " ('phone_model_detail_galaxy note5', 0.02480279513180513),\n",
              " ('phone_model_detail_galaxy s7', 0.02324322006317597),\n",
              " ('product_status_0', 0.02192866113162085)]"
            ]
          },
          "metadata": {},
          "execution_count": 38
        },
        {
          "output_type": "display_data",
          "data": {
            "text/plain": [
              "<Figure size 432x288 with 1 Axes>"
            ],
            "image/png": "[encoded data removed]"
          },
          "metadata": {
            "needs_background": "light"
          }
        }
      ],
      "source": [
        "# text 피처로부터  '상품 상태 피처(product_status)' 를 생성\n",
        "X = index_vectorizer.transform(df['text'].tolist())\n",
        "X = tfidf_vectorizer.transform(X)\n",
        "df['product_status'] = pd.Series(svm.predict(X))\n",
        "\n",
        "# 랜덤 포레스트 모델 학습을 위한 데이터를 준비\n",
        "df = df[['price', 'factory_price', 'maker', 'price_index', 'create_time_score', 'phone_model_storage',\n",
        "                'phone_model_detail', 'product_status']]\n",
        "df = pd.get_dummies(df, columns=['maker', 'phone_model_storage', 'phone_model_detail', 'product_status'])\n",
        "\n",
        "# 학습/테스트 데이터를 분리합니다.\n",
        "X = df.loc[:, df.columns != 'price']\n",
        "y = df['price']\n",
        "X_train, X_test, y_train, y_test = train_test_split(X, y, test_size=0.3, random_state=0)\n",
        "\n",
        "# 랜덤 포레스트 모델을 학습하고 평가\n",
        "forest = RandomForestRegressor(n_estimators=1000,\n",
        "                               criterion='mse')\n",
        "forest.fit(X_train, y_train)\n",
        "y_train_pred = forest.predict(X_train)\n",
        "y_test_pred = forest.predict(X_test)\n",
        "print('MSE train: %.3f, test: %.3f' % (\n",
        "        mean_squared_error(y_train, y_train_pred),\n",
        "        mean_squared_error(y_test, y_test_pred)))\n",
        "print('R^2 train: %.3f, test: %.3f' % (\n",
        "        r2_score(y_train, y_train_pred),\n",
        "        r2_score(y_test, y_test_pred)))\n",
        "\n",
        "# 피처 중요도 plot을 출력\n",
        "importances = forest.feature_importances_\n",
        "plt.plot(importances, \"o\")\n",
        "\n",
        "# 피처 중요도를 print로 출력\n",
        "feat_labels = X.columns.tolist()\n",
        "feature = list(zip(feat_labels, forest.feature_importances_))\n",
        "sorted(feature, key=lambda tup: tup[1], reverse=True)[:10]"
      ]
    },
    {
      "cell_type": "code",
      "execution_count": 39,
      "metadata": {
        "colab": {
          "base_uri": "https://localhost:8080/"
        },
        "id": "30-bU1Dyhe_W",
        "outputId": "598552d3-e64a-443f-83c2-d540ef6b5e31"
      },
      "outputs": [
        {
          "output_type": "stream",
          "name": "stdout",
          "text": [
            "{'factory_price': 0, 'price_index': 1, ' ...\n"
          ]
        }
      ],
      "source": [
        "# 프로그램에서 입력값에 대한 피처를 찾기 위한 딕셔너리를 생성\n",
        "col_to_index_dict = {}\n",
        "for idx, col in enumerate(df.columns[1:]):\n",
        "    col_to_index_dict[col] = idx\n",
        "    \n",
        "print(str(col_to_index_dict)[:40], \"...\")"
      ]
    },
    {
      "cell_type": "code",
      "execution_count": 40,
      "metadata": {
        "colab": {
          "base_uri": "https://localhost:8080/",
          "height": 306
        },
        "id": "HgWRPuBHhhci",
        "outputId": "3413acc7-40d8-4960-91e9-fe78e23f4636"
      },
      "outputs": [
        {
          "output_type": "execute_result",
          "data": {
            "text/plain": [
              "<matplotlib.collections.PathCollection at 0x7f59f30b5e50>"
            ]
          },
          "metadata": {},
          "execution_count": 40
        },
        {
          "output_type": "display_data",
          "data": {
            "text/plain": [
              "<Figure size 432x288 with 1 Axes>"
            ],
            "image/png": "[encoded data removed]"
          },
          "metadata": {
            "needs_background": "light"
          }
        }
      ],
      "source": [
        "# 테스트 데이터의 y값과, 예측된 y값을 scatter plot을 활용하여 상관관계를 살펴보기\n",
        "plt.scatter(y_test.values, y_test_pred)"
      ]
    },
    {
      "cell_type": "code",
      "execution_count": 41,
      "metadata": {
        "colab": {
          "base_uri": "https://localhost:8080/"
        },
        "id": "MywYWKMRhljD",
        "outputId": "5266f70a-5c66-458d-8857-a7fc9e782c28"
      },
      "outputs": [
        {
          "output_type": "stream",
          "name": "stdout",
          "text": [
            "Fitting 3 folds for each of 100 candidates, totalling 300 fits\n"
          ]
        },
        {
          "output_type": "stream",
          "name": "stderr",
          "text": [
            "/usr/local/lib/python3.7/dist-packages/joblib/externals/loky/process_executor.py:705: UserWarning: A worker stopped while some jobs were given to the executor. This can be caused by a too short worker timeout or by a memory leak.\n",
            "  \"timeout or by a memory leak.\", UserWarning\n"
          ]
        },
        {
          "output_type": "execute_result",
          "data": {
            "text/plain": [
              "RandomizedSearchCV(cv=3, estimator=RandomForestRegressor(), n_iter=100,\n",
              "                   n_jobs=-1,\n",
              "                   param_distributions={'bootstrap': [True, False],\n",
              "                                        'max_depth': [10, 20, 30, 40, 50, 60,\n",
              "                                                      70, 80, 90, 100, 110,\n",
              "                                                      None],\n",
              "                                        'max_features': ['auto', 'sqrt'],\n",
              "                                        'n_estimators': [200, 400, 600, 800,\n",
              "                                                         1000, 1200, 1400, 1600,\n",
              "                                                         1800, 2000]},\n",
              "                   random_state=42, verbose=2)"
            ]
          },
          "metadata": {},
          "execution_count": 41
        }
      ],
      "source": [
        "from sklearn.model_selection import RandomizedSearchCV\n",
        "\n",
        "# Randomized Search로 찾아낼 파라미터 후보군을 각각 리스트로 선정\n",
        "n_estimators = [int(x) for x in np.linspace(start = 200, stop = 2000, num = 10)]\n",
        "max_features = ['auto', 'sqrt']\n",
        "max_depth = [int(x) for x in np.linspace(10, 110, num = 11)]\n",
        "max_depth.append(None)\n",
        "bootstrap = [True, False]\n",
        "\n",
        "# RandomizedSearchCV 오브젝트를 생성하여 모델을 정의\n",
        "random_grid = {'n_estimators': n_estimators,\n",
        "               'max_features': max_features,\n",
        "               'max_depth': max_depth,\n",
        "               'bootstrap': bootstrap}\n",
        "forest = RandomForestRegressor()\n",
        "optimal_forest = RandomizedSearchCV(estimator = forest, \n",
        "                                    param_distributions = random_grid, \n",
        "                                    n_iter = 100, \n",
        "                                    cv = 3, \n",
        "                                    verbose=2,\n",
        "                                    random_state=42, \n",
        "                                    n_jobs = -1)\n",
        "\n",
        "# RandomizedSearchCV 모델을 학습\n",
        "X = df.loc[:, df.columns != 'price']\n",
        "y = df['price']\n",
        "optimal_forest.fit(X, y)"
      ]
    },
    {
      "cell_type": "code",
      "execution_count": 42,
      "metadata": {
        "colab": {
          "base_uri": "https://localhost:8080/"
        },
        "id": "nU79nbsbhpVd",
        "outputId": "37172b7f-136e-4f52-8bee-ebf3b5cefc3a"
      },
      "outputs": [
        {
          "output_type": "execute_result",
          "data": {
            "text/plain": [
              "{'bootstrap': False,\n",
              " 'max_depth': 10,\n",
              " 'max_features': 'auto',\n",
              " 'n_estimators': 2000}"
            ]
          },
          "metadata": {},
          "execution_count": 42
        }
      ],
      "source": [
        "# 앞서 선정한 파라미터 후보군 중에서 가장 좋은 결과를 보인 파라미터의 조합을 출력\n",
        "optimal_forest.best_params_"
      ]
    },
    {
      "cell_type": "code",
      "execution_count": 43,
      "metadata": {
        "colab": {
          "base_uri": "https://localhost:8080/",
          "height": 473
        },
        "id": "rfDsBqrOhszw",
        "outputId": "1e468edc-9fa2-4dec-da9f-b1d65a9affff"
      },
      "outputs": [
        {
          "output_type": "stream",
          "name": "stdout",
          "text": [
            "MSE train: 8808367145.348, test: 7645658083.824\n",
            "R^2 train: 0.818, test: 0.825\n"
          ]
        },
        {
          "output_type": "execute_result",
          "data": {
            "text/plain": [
              "[('factory_price', 0.2964853638273575),\n",
              " ('maker_apple', 0.2756146392284373),\n",
              " ('phone_model_storage_16gb', 0.07214706194105022),\n",
              " ('create_time_score', 0.06572221855266933),\n",
              " ('product_status_2', 0.06260580946945465),\n",
              " ('phone_model_detail_galaxy s7 edge', 0.027077101484832652),\n",
              " ('phone_model_detail_iphone 6', 0.02502982893281447),\n",
              " ('product_status_0', 0.02442836178131644),\n",
              " ('phone_model_detail_galaxy s4', 0.020530253379789698),\n",
              " ('product_status_1', 0.01385057855156751)]"
            ]
          },
          "metadata": {},
          "execution_count": 43
        },
        {
          "output_type": "display_data",
          "data": {
            "text/plain": [
              "<Figure size 432x288 with 1 Axes>"
            ],
            "image/png": "[encoded data removed]"
          },
          "metadata": {
            "needs_background": "light"
          }
        }
      ],
      "source": [
        "# 최적의 파라미터를 적용한 모델로 중고폰의 가격을 예측하고 평가\n",
        "y_train_pred = optimal_forest.predict(X_train)\n",
        "y_test_pred = optimal_forest.predict(X_test)\n",
        "print('MSE train: %.3f, test: %.3f' % (\n",
        "        mean_squared_error(y_train, y_train_pred),\n",
        "        mean_squared_error(y_test, y_test_pred)))\n",
        "print('R^2 train: %.3f, test: %.3f' % (\n",
        "        r2_score(y_train, y_train_pred),\n",
        "        r2_score(y_test, y_test_pred)))\n",
        "\n",
        "# 가격 예측 모델의 피처 중요도 plot을 출력\n",
        "importances = optimal_forest.best_estimator_.feature_importances_\n",
        "indices = np.argsort(importances)[::-1]\n",
        "plt.bar(range(X.shape[1]), importances[indices])\n",
        "\n",
        "# 가격 예측 모델의 피처 중요도를 출력\n",
        "feat_labels = X.columns.tolist()\n",
        "feature = list(zip(feat_labels, optimal_forest.best_estimator_.feature_importances_))\n",
        "sorted(feature, key=lambda tup: tup[1], reverse=True)[:10]"
      ]
    },
    {
      "cell_type": "code",
      "execution_count": 44,
      "metadata": {
        "colab": {
          "base_uri": "https://localhost:8080/",
          "height": 306
        },
        "id": "P4_WALRShvD2",
        "outputId": "89a93ec8-6e1c-4bfc-c079-fe250d947276"
      },
      "outputs": [
        {
          "output_type": "execute_result",
          "data": {
            "text/plain": [
              "<matplotlib.collections.PathCollection at 0x7f59f1935210>"
            ]
          },
          "metadata": {},
          "execution_count": 44
        },
        {
          "output_type": "display_data",
          "data": {
            "text/plain": [
              "<Figure size 432x288 with 1 Axes>"
            ],
            "image/png": "[encoded data removed]"
          },
          "metadata": {
            "needs_background": "light"
          }
        }
      ],
      "source": [
        "# 테스트 데이터의 y값과, 예측된 y값을 scatter plot을 활용하여 상관관계 확인\n",
        "plt.scatter(y_test.values, y_test_pred)"
      ]
    },
    {
      "cell_type": "code",
      "execution_count": 45,
      "metadata": {
        "colab": {
          "base_uri": "https://localhost:8080/"
        },
        "id": "CQwBV4aGtQAy",
        "outputId": "eddedefa-519b-48ae-8d36-9ff43462f09a"
      },
      "outputs": [
        {
          "output_type": "execute_result",
          "data": {
            "text/plain": [
              "['rf_regressor.pickle']"
            ]
          },
          "metadata": {},
          "execution_count": 45
        }
      ],
      "source": [
        "import joblib\n",
        "\n",
        "# 모델 예측을 위한 중간 오브젝트들을 각각 파일로 저장합니다.\n",
        "with open('model_to_factory_price_dict.pickle', 'wb') as f:\n",
        "    pickle.dump(model_to_factory_price_dict, f, pickle.HIGHEST_PROTOCOL)\n",
        "    \n",
        "with open('col_to_index_dict.pickle', 'wb') as f:\n",
        "    pickle.dump(col_to_index_dict, f, pickle.HIGHEST_PROTOCOL)\n",
        "    \n",
        "with open('common_words.pickle', 'wb') as f:\n",
        "    pickle.dump(common_words, f, pickle.HIGHEST_PROTOCOL)\n",
        "    \n",
        "with open('init_vectorizer_vocabulary.pickle', 'wb') as f:\n",
        "    pickle.dump(index_vectorizer.vocabulary_, f, pickle.HIGHEST_PROTOCOL)\n",
        "    \n",
        "with open('tfidf_vectorizer.pickle', 'wb') as f:\n",
        "    pickle.dump(tfidf_vectorizer, f, pickle.HIGHEST_PROTOCOL)\n",
        "    \n",
        "with open('svm_classifier.pickle', 'wb') as f:\n",
        "    pickle.dump(svm, f, pickle.HIGHEST_PROTOCOL)\n",
        "\n",
        "joblib.dump(optimal_forest.best_estimator_, 'rf_regressor.pickle', compress = 1)"
      ]
    }
  ],
  "metadata": {
    "colab": {
      "collapsed_sections": [],
      "name": "used_retail.ipynb",
      "provenance": []
    },
    "kernelspec": {
      "display_name": "Python 3.8.13 ('test')",
      "language": "python",
      "name": "python3"
    },
    "language_info": {
      "codemirror_mode": {
        "name": "ipython",
        "version": 3
      },
      "file_extension": ".py",
      "mimetype": "text/x-python",
      "name": "python",
      "nbconvert_exporter": "python",
      "pygments_lexer": "ipython3",
      "version": "3.8.13"
    },
    "vscode": {
      "interpreter": {
        "hash": "a8aac0b6a3e67f35bcd67088a857342b2a6b50e1135570ee0f841fb10732c056"
      }
    }
  },
  "nbformat": 4,
  "nbformat_minor": 0
}